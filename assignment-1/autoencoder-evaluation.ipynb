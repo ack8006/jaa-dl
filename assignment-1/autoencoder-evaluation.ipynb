{
 "cells": [
  {
   "cell_type": "code",
   "execution_count": 43,
   "metadata": {
    "collapsed": true
   },
   "outputs": [],
   "source": [
    "from __future__ import print_function\n",
    "\n",
    "import sys\n",
    "sys.path.append(\"/Users/abhishekkadian/Documents/Github/jaa-dl/assignment-1/denoising-autoencoder/\")\n",
    "sys.path.append(\"/Users/abhishekkadian/Documents/Github/jaa-dl/assignment-1/\")\n",
    "\n",
    "import autoencoder\n",
    "import convnet\n",
    "\n",
    "import numpy as np\n",
    "\n",
    "import torch\n",
    "from torch.autograd import Variable\n",
    "\n",
    "import matplotlib.pyplot as plt\n",
    "\n",
    "%matplotlib inline"
   ]
  },
  {
   "cell_type": "code",
   "execution_count": 13,
   "metadata": {
    "collapsed": false
   },
   "outputs": [],
   "source": [
    "def corrupt_input(X):\n",
    "    # TODO: Verify whether introducing noise like this is correct.\n",
    "    noise = torch.FloatTensor(np.random.binomial(1, 0.5, size=X.data.size()))\n",
    "    return Variable(X.data.clone() * noise)"
   ]
  },
  {
   "cell_type": "code",
   "execution_count": 7,
   "metadata": {
    "collapsed": false
   },
   "outputs": [],
   "source": [
    "trX, teX, trY, teY = convnet.load_mnist(onehot=False)\n",
    "\n",
    "trX = np.array([x.flatten() for x in trX])\n",
    "teX = np.array([x.flatten() for x in teX])"
   ]
  },
  {
   "cell_type": "code",
   "execution_count": 8,
   "metadata": {
    "collapsed": false
   },
   "outputs": [
    {
     "data": {
      "text/plain": [
       "((60000, 784), (10000, 784), (60000,), (10000,))"
      ]
     },
     "execution_count": 8,
     "metadata": {},
     "output_type": "execute_result"
    }
   ],
   "source": [
    "trX.shape, teX.shape, trY.shape, teY.shape"
   ]
  },
  {
   "cell_type": "code",
   "execution_count": 17,
   "metadata": {
    "collapsed": false
   },
   "outputs": [],
   "source": [
    "trX = Variable(torch.FloatTensor(trX))"
   ]
  },
  {
   "cell_type": "code",
   "execution_count": 10,
   "metadata": {
    "collapsed": true
   },
   "outputs": [],
   "source": [
    "N = trX.shape[0]\n",
    "d_in = 784\n",
    "d_out = 500\n",
    "dtype = torch.FloatTensor\n",
    "batch_size = 64"
   ]
  },
  {
   "cell_type": "code",
   "execution_count": 11,
   "metadata": {
    "collapsed": true
   },
   "outputs": [],
   "source": [
    "ae = autoencoder.Autoencoder(n_visible=d_in, n_hidden=d_out, batch_size=batch_size)"
   ]
  },
  {
   "cell_type": "code",
   "execution_count": 21,
   "metadata": {
    "collapsed": true
   },
   "outputs": [],
   "source": [
    "optimizer = torch.optim.SGD(ae.parameters(), lr=0.01)\n",
    "epochs = 50"
   ]
  },
  {
   "cell_type": "code",
   "execution_count": 22,
   "metadata": {
    "collapsed": false
   },
   "outputs": [
    {
     "name": "stdout",
     "output_type": "stream",
     "text": [
      "epoch: 0, cost: 92.1273727417\n",
      "epoch: 1, cost: 91.5384902954\n",
      "epoch: 2, cost: 90.9277267456\n",
      "epoch: 3, cost: 90.4141616821\n",
      "epoch: 4, cost: 89.9409942627\n",
      "epoch: 5, cost: 89.4988861084\n",
      "epoch: 6, cost: 89.2271270752\n",
      "epoch: 7, cost: 88.7911376953\n",
      "epoch: 8, cost: 88.4332199097\n",
      "epoch: 9, cost: 88.1333465576\n",
      "epoch: 10, cost: 87.7748794556\n",
      "epoch: 11, cost: 87.4935302734\n",
      "epoch: 12, cost: 87.2067871094\n",
      "epoch: 13, cost: 86.8745574951\n",
      "epoch: 14, cost: 86.6812286377\n",
      "epoch: 15, cost: 86.3573760986\n",
      "epoch: 16, cost: 86.1412887573\n",
      "epoch: 17, cost: 85.8857574463\n",
      "epoch: 18, cost: 85.6589431763\n",
      "epoch: 19, cost: 85.4310379028\n",
      "epoch: 20, cost: 85.1758346558\n",
      "epoch: 21, cost: 84.9344100952\n",
      "epoch: 22, cost: 84.747795105\n",
      "epoch: 23, cost: 84.4586715698\n",
      "epoch: 24, cost: 84.335067749\n",
      "epoch: 25, cost: 84.1450424194\n",
      "epoch: 26, cost: 83.9273757935\n",
      "epoch: 27, cost: 83.671836853\n",
      "epoch: 28, cost: 83.4825592041\n",
      "epoch: 29, cost: 83.3244552612\n",
      "epoch: 30, cost: 83.1116333008\n",
      "epoch: 31, cost: 82.9613647461\n",
      "epoch: 32, cost: 82.7699432373\n",
      "epoch: 33, cost: 82.5772323608\n",
      "epoch: 34, cost: 82.4902954102\n",
      "epoch: 35, cost: 82.3194656372\n",
      "epoch: 36, cost: 82.0820159912\n",
      "epoch: 37, cost: 82.034866333\n",
      "epoch: 38, cost: 81.8211288452\n",
      "epoch: 39, cost: 81.7064590454\n",
      "epoch: 40, cost: 81.5336990356\n",
      "epoch: 41, cost: 81.4574203491\n",
      "epoch: 42, cost: 81.2762832642\n",
      "epoch: 43, cost: 81.1361999512\n",
      "epoch: 44, cost: 81.0275802612\n",
      "epoch: 45, cost: 80.867149353\n",
      "epoch: 46, cost: 80.7607498169\n",
      "epoch: 47, cost: 80.5805892944\n",
      "epoch: 48, cost: 80.590965271\n",
      "epoch: 49, cost: 80.4107666016\n"
     ]
    }
   ],
   "source": [
    "for e in range(epochs):\n",
    "    agg_cost = 0.\n",
    "    num_batches = N / batch_size\n",
    "    for k in range(num_batches):\n",
    "        start, end = k * (batch_size), (k + 1) * batch_size\n",
    "        bX = trX[start:end]\n",
    "        tilde_x = corrupt_input(bX)\n",
    "        optimizer.zero_grad()\n",
    "        Z = ae.forward(tilde_x)\n",
    "        loss = - torch.sum(bX * torch.log(Z) + (1.0 - bX) * torch.log(1.0 - Z), 1)\n",
    "        cost = torch.mean(loss)\n",
    "        cost.backward()\n",
    "        optimizer.step()\n",
    "        agg_cost += cost\n",
    "    agg_cost /= num_batches\n",
    "    print(\"epoch:\", str(e) + \", cost:\", agg_cost.data[0])"
   ]
  },
  {
   "cell_type": "code",
   "execution_count": 25,
   "metadata": {
    "collapsed": false
   },
   "outputs": [
    {
     "data": {
      "text/plain": [
       "torch.Size([784])"
      ]
     },
     "execution_count": 25,
     "metadata": {},
     "output_type": "execute_result"
    }
   ],
   "source": [
    "trX[0].data.size()"
   ]
  },
  {
   "cell_type": "code",
   "execution_count": 26,
   "metadata": {
    "collapsed": true
   },
   "outputs": [],
   "source": [
    "num_batches = N / batch_size\n",
    "\n",
    "results = []\n",
    "\n",
    "for k in range(num_batches):\n",
    "    start, end = k * (batch_size), (k + 1) * batch_size\n",
    "    bX = trX[start:end]\n",
    "    tilde_x = corrupt_input(bX)\n",
    "    z = ae.forward(tilde_x)\n",
    "    results.append(z)"
   ]
  },
  {
   "cell_type": "code",
   "execution_count": 75,
   "metadata": {
    "collapsed": false
   },
   "outputs": [],
   "source": [
    "t = results[0].data[55].numpy()"
   ]
  },
  {
   "cell_type": "code",
   "execution_count": 76,
   "metadata": {
    "collapsed": true
   },
   "outputs": [],
   "source": [
    "t = t.reshape(28, 28)"
   ]
  },
  {
   "cell_type": "code",
   "execution_count": 77,
   "metadata": {
    "collapsed": false
   },
   "outputs": [],
   "source": [
    "def imshow(img):\n",
    "    if type(img) == torch.FloatTensor:\n",
    "        npimg = img.numpy()\n",
    "    else:\n",
    "        npimg = img\n",
    "    plt.imshow(np.transpose(npimg, (1, 2, 0))[:,:,0], \n",
    "               cmap='gray')"
   ]
  },
  {
   "cell_type": "code",
   "execution_count": 78,
   "metadata": {
    "collapsed": false
   },
   "outputs": [
    {
     "data": {
      "text/plain": [
       "<matplotlib.image.AxesImage at 0x1b53d6490>"
      ]
     },
     "execution_count": 78,
     "metadata": {},
     "output_type": "execute_result"
    },
    {
     "data": {
      "image/png": "[encoded data removed]",
      "text/plain": [
       "<matplotlib.figure.Figure at 0x1b5153150>"
      ]
     },
     "metadata": {},
     "output_type": "display_data"
    }
   ],
   "source": [
    "plt.imshow(t, cmap='gray')"
   ]
  },
  {
   "cell_type": "code",
   "execution_count": 79,
   "metadata": {
    "collapsed": false
   },
   "outputs": [
    {
     "data": {
      "text/plain": [
       "<matplotlib.image.AxesImage at 0x1b564d350>"
      ]
     },
     "execution_count": 79,
     "metadata": {},
     "output_type": "execute_result"
    },
    {
     "data": {
      "image/png": "[encoded data removed]",
      "text/plain": [
       "<matplotlib.figure.Figure at 0x1b53ee090>"
      ]
     },
     "metadata": {},
     "output_type": "display_data"
    }
   ],
   "source": [
    "plt.imshow(trX.data[55].numpy().reshape(28, 28), cmap='gray')"
   ]
  },
  {
   "cell_type": "code",
   "execution_count": null,
   "metadata": {
    "collapsed": true
   },
   "outputs": [],
   "source": []
  }
 ],
 "metadata": {
  "anaconda-cloud": {},
  "kernelspec": {
   "display_name": "Python [py27]",
   "language": "python",
   "name": "Python [py27]"
  },
  "language_info": {
   "codemirror_mode": {
    "name": "ipython",
    "version": 2
   },
   "file_extension": ".py",
   "mimetype": "text/x-python",
   "name": "python",
   "nbconvert_exporter": "python",
   "pygments_lexer": "ipython2",
   "version": "2.7.12"
  }
 },
 "nbformat": 4,
 "nbformat_minor": 0
}
