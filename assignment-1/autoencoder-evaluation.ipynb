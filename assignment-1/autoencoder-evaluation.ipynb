{
 "cells": [
  {
   "cell_type": "code",
   "execution_count": 1,
   "metadata": {
    "collapsed": false
   },
   "outputs": [],
   "source": [
    "from __future__ import print_function\n",
    "\n",
    "import sys\n",
    "sys.path.append(\"/Users/abhishekkadian/Documents/Github/jaa-dl/assignment-1/denoising-autoencoder/\")\n",
    "sys.path.append(\"/Users/abhishekkadian/Documents/Github/jaa-dl/assignment-1/\")\n",
    "\n",
    "import autoencoder\n",
    "import convnet\n",
    "\n",
    "import numpy as np\n",
    "\n",
    "import torch\n",
    "from torch.autograd import Variable\n",
    "\n",
    "import matplotlib.pyplot as plt\n",
    "\n",
    "from torch import optim\n",
    "\n",
    "%matplotlib inline"
   ]
  },
  {
   "cell_type": "markdown",
   "metadata": {},
   "source": [
    "## MLP Testing"
   ]
  },
  {
   "cell_type": "code",
   "execution_count": 2,
   "metadata": {
    "collapsed": true
   },
   "outputs": [],
   "source": [
    "trX, teX, trY, teY = convnet.load_mnist(onehot=False)\n",
    "\n",
    "trX = np.array([x.flatten() for x in trX])\n",
    "teX = np.array([x.flatten() for x in teX])"
   ]
  },
  {
   "cell_type": "code",
   "execution_count": 3,
   "metadata": {
    "collapsed": false
   },
   "outputs": [
    {
     "data": {
      "text/plain": [
       "((60000, 784), (10000, 784), (60000,), (10000,))"
      ]
     },
     "execution_count": 3,
     "metadata": {},
     "output_type": "execute_result"
    }
   ],
   "source": [
    "trX.shape, teX.shape, trY.shape, teY.shape"
   ]
  },
  {
   "cell_type": "code",
   "execution_count": 4,
   "metadata": {
    "collapsed": false
   },
   "outputs": [],
   "source": [
    "trX_V = Variable(torch.from_numpy(trX).float())\n",
    "teX_V = Variable(torch.from_numpy(teX).float())\n",
    "trY_V = Variable(torch.from_numpy(trY).long())\n",
    "teY_V = Variable(torch.from_numpy(teY).long())"
   ]
  },
  {
   "cell_type": "code",
   "execution_count": 5,
   "metadata": {
    "collapsed": false
   },
   "outputs": [],
   "source": [
    "mlp = autoencoder.MLP(n_in=784, n_hidden=500, n_out=10)"
   ]
  },
  {
   "cell_type": "code",
   "execution_count": 6,
   "metadata": {
    "collapsed": false
   },
   "outputs": [
    {
     "name": "stdout",
     "output_type": "stream",
     "text": [
      "Epoch: 0, Loss: -0.168293520808\n",
      "Epoch: 0, Accuracy: 0.2859\n",
      "Epoch: 1, Loss: -0.301719635725\n",
      "Epoch: 1, Accuracy: 0.549\n",
      "Epoch: 2, Loss: -0.418202966452\n",
      "Epoch: 2, Accuracy: 0.5627\n",
      "Epoch: 3, Loss: -0.472356706858\n",
      "Epoch: 3, Accuracy: 0.5697\n",
      "Epoch: 4, Loss: -0.497768014669\n",
      "Epoch: 4, Accuracy: 0.5733\n",
      "Epoch: 5, Loss: -0.512651145458\n",
      "Epoch: 5, Accuracy: 0.5755\n",
      "Epoch: 6, Loss: -0.52312463522\n",
      "Epoch: 6, Accuracy: 0.5779\n",
      "Epoch: 7, Loss: -0.550664365292\n",
      "Epoch: 7, Accuracy: 0.6519\n",
      "Epoch: 8, Loss: -0.583038151264\n",
      "Epoch: 8, Accuracy: 0.661\n",
      "Epoch: 9, Loss: -0.599322974682\n",
      "Epoch: 9, Accuracy: 0.6643\n",
      "Epoch: 10, Loss: -0.60928195715\n",
      "Epoch: 10, Accuracy: 0.6668\n",
      "Epoch: 11, Loss: -0.616274535656\n",
      "Epoch: 11, Accuracy: 0.6688\n",
      "Epoch: 12, Loss: -0.621594786644\n",
      "Epoch: 12, Accuracy: 0.6698\n",
      "Epoch: 13, Loss: -0.625852823257\n",
      "Epoch: 13, Accuracy: 0.6705\n",
      "Epoch: 14, Loss: -0.629378557205\n",
      "Epoch: 14, Accuracy: 0.6709\n",
      "Epoch: 15, Loss: -0.632371366024\n",
      "Epoch: 15, Accuracy: 0.6717\n",
      "Epoch: 16, Loss: -0.634960770607\n",
      "Epoch: 16, Accuracy: 0.6725\n",
      "Epoch: 17, Loss: -0.637236893177\n",
      "Epoch: 17, Accuracy: 0.673\n",
      "Epoch: 18, Loss: -0.639266133308\n",
      "Epoch: 18, Accuracy: 0.6733\n",
      "Epoch: 19, Loss: -0.641100585461\n",
      "Epoch: 19, Accuracy: 0.6738\n",
      "Epoch: 20, Loss: -0.642793416977\n",
      "Epoch: 20, Accuracy: 0.6744\n",
      "Epoch: 21, Loss: -0.644436776638\n",
      "Epoch: 21, Accuracy: 0.6748\n",
      "Epoch: 22, Loss: -0.646851480007\n",
      "Epoch: 22, Accuracy: 0.6759\n",
      "Epoch: 23, Loss: -0.669495463371\n",
      "Epoch: 23, Accuracy: 0.7389\n",
      "Epoch: 24, Loss: -0.68443018198\n",
      "Epoch: 24, Accuracy: 0.7443\n",
      "Epoch: 25, Loss: -0.693160057068\n",
      "Epoch: 25, Accuracy: 0.7475\n",
      "Epoch: 26, Loss: -0.699308753014\n",
      "Epoch: 26, Accuracy: 0.7495\n",
      "Epoch: 27, Loss: -0.703955173492\n",
      "Epoch: 27, Accuracy: 0.7505\n",
      "Epoch: 28, Loss: -0.707652926445\n",
      "Epoch: 28, Accuracy: 0.752\n",
      "Epoch: 29, Loss: -0.710708856583\n",
      "Epoch: 29, Accuracy: 0.753\n"
     ]
    }
   ],
   "source": [
    "epochs = 30\n",
    "\n",
    "for curr_e in range(epochs):\n",
    "    autoencoder.train_mlp(trX_V, trY_V, mlp, curr_e)\n",
    "    preds = mlp.forward(teX_V).data.numpy()\n",
    "    correct = 0.\n",
    "    for actual, prediction in zip(teY, preds):\n",
    "        ind = np.argmax(prediction)\n",
    "        if ind == actual:\n",
    "            correct += 1\n",
    "    print(\"Epoch:\", str(curr_e) + \", Accuracy:\", correct / teY.shape[0])"
   ]
  },
  {
   "cell_type": "markdown",
   "metadata": {},
   "source": [
    "## Autoencoder Testing"
   ]
  },
  {
   "cell_type": "code",
   "execution_count": 2,
   "metadata": {
    "collapsed": false
   },
   "outputs": [],
   "source": [
    "def corrupt_input(X):\n",
    "    noise = torch.FloatTensor(np.random.binomial(1, 0.5, size=X.data.size()))\n",
    "    return Variable(X.data.clone() * noise)"
   ]
  },
  {
   "cell_type": "code",
   "execution_count": 3,
   "metadata": {
    "collapsed": false
   },
   "outputs": [],
   "source": [
    "trX, teX, trY, teY = convnet.load_mnist(onehot=False)\n",
    "\n",
    "trX = np.array([x.flatten() for x in trX])\n",
    "teX = np.array([x.flatten() for x in teX])"
   ]
  },
  {
   "cell_type": "code",
   "execution_count": 4,
   "metadata": {
    "collapsed": false
   },
   "outputs": [
    {
     "data": {
      "text/plain": [
       "((60000, 784), (10000, 784), (60000,), (10000,))"
      ]
     },
     "execution_count": 4,
     "metadata": {},
     "output_type": "execute_result"
    }
   ],
   "source": [
    "trX.shape, teX.shape, trY.shape, teY.shape"
   ]
  },
  {
   "cell_type": "code",
   "execution_count": 7,
   "metadata": {
    "collapsed": false
   },
   "outputs": [],
   "source": [
    "N = 60000\n",
    "d_in = 784\n",
    "d_out = 500\n",
    "dtype = torch.FloatTensor\n",
    "batch_size = 64"
   ]
  },
  {
   "cell_type": "code",
   "execution_count": 8,
   "metadata": {
    "collapsed": true
   },
   "outputs": [],
   "source": [
    "ae = autoencoder.Autoencoder(n_visible=d_in, n_hidden=d_out, batch_size=batch_size)"
   ]
  },
  {
   "cell_type": "code",
   "execution_count": 9,
   "metadata": {
    "collapsed": true
   },
   "outputs": [],
   "source": [
    "optimizer = torch.optim.SGD(ae.parameters(), lr=0.01)\n",
    "epochs = 1"
   ]
  },
  {
   "cell_type": "code",
   "execution_count": 18,
   "metadata": {
    "collapsed": false
   },
   "outputs": [
    {
     "name": "stdout",
     "output_type": "stream",
     "text": [
      "epoch: 0, cost: 105.61592865\n"
     ]
    }
   ],
   "source": [
    "for e in range(epochs):\n",
    "    agg_cost = 0.\n",
    "    num_batches = N / batch_size\n",
    "    for k in range(num_batches):\n",
    "        start, end = k * (batch_size), (k + 1) * batch_size\n",
    "        bX = trX[start:end]\n",
    "        tilde_x = corrupt_input(bX)\n",
    "        optimizer.zero_grad()\n",
    "        Z = ae.forward(tilde_x)\n",
    "        loss = - torch.sum(bX * torch.log(Z) + (1.0 - bX) * torch.log(1.0 - Z), 1)\n",
    "        cost = torch.mean(loss)\n",
    "        cost.backward()\n",
    "        optimizer.step()\n",
    "        agg_cost += cost\n",
    "    agg_cost /= num_batches\n",
    "    print(\"epoch:\", str(e) + \", cost:\", agg_cost.data[0])"
   ]
  },
  {
   "cell_type": "code",
   "execution_count": 19,
   "metadata": {
    "collapsed": false
   },
   "outputs": [
    {
     "data": {
      "text/plain": [
       "torch.Size([784])"
      ]
     },
     "execution_count": 19,
     "metadata": {},
     "output_type": "execute_result"
    }
   ],
   "source": [
    "trX[0].data.size()"
   ]
  },
  {
   "cell_type": "code",
   "execution_count": null,
   "metadata": {
    "collapsed": true
   },
   "outputs": [],
   "source": [
    "num_batches = N / batch_size\n",
    "\n",
    "results = []\n",
    "\n",
    "for k in range(num_batches):\n",
    "    start, end = k * (batch_size), (k + 1) * batch_size\n",
    "    bX = trX[start:end]\n",
    "    tilde_x = corrupt_input(bX)\n",
    "    z = ae.forward(tilde_x)\n",
    "    results.append(z)"
   ]
  },
  {
   "cell_type": "code",
   "execution_count": 13,
   "metadata": {
    "collapsed": false
   },
   "outputs": [],
   "source": [
    "t = results[0].data[55].numpy()"
   ]
  },
  {
   "cell_type": "code",
   "execution_count": 14,
   "metadata": {
    "collapsed": true
   },
   "outputs": [],
   "source": [
    "t = t.reshape(28, 28)"
   ]
  },
  {
   "cell_type": "code",
   "execution_count": 15,
   "metadata": {
    "collapsed": false
   },
   "outputs": [],
   "source": [
    "def imshow(img):\n",
    "    if type(img) == torch.FloatTensor:\n",
    "        npimg = img.numpy()\n",
    "    else:\n",
    "        npimg = img\n",
    "    plt.imshow(np.transpose(npimg, (1, 2, 0))[:,:,0], \n",
    "               cmap='gray')"
   ]
  },
  {
   "cell_type": "code",
   "execution_count": 16,
   "metadata": {
    "collapsed": false
   },
   "outputs": [
    {
     "data": {
      "text/plain": [
       "<matplotlib.image.AxesImage at 0x197eff4d0>"
      ]
     },
     "execution_count": 16,
     "metadata": {},
     "output_type": "execute_result"
    },
    {
     "data": {
      "image/png": "[encoded data removed]",
      "text/plain": [
       "<matplotlib.figure.Figure at 0x10cc2dbd0>"
      ]
     },
     "metadata": {},
     "output_type": "display_data"
    }
   ],
   "source": [
    "plt.imshow(t, cmap='gray')"
   ]
  },
  {
   "cell_type": "code",
   "execution_count": 17,
   "metadata": {
    "collapsed": false
   },
   "outputs": [
    {
     "data": {
      "text/plain": [
       "<matplotlib.image.AxesImage at 0x1980dd750>"
      ]
     },
     "execution_count": 17,
     "metadata": {},
     "output_type": "execute_result"
    },
    {
     "data": {
      "image/png": "[encoded data removed]",
      "text/plain": [
       "<matplotlib.figure.Figure at 0x197effb10>"
      ]
     },
     "metadata": {},
     "output_type": "display_data"
    }
   ],
   "source": [
    "plt.imshow(trX.data[55].numpy().reshape(28, 28), cmap='gray')"
   ]
  },
  {
   "cell_type": "code",
   "execution_count": null,
   "metadata": {
    "collapsed": true
   },
   "outputs": [],
   "source": []
  }
 ],
 "metadata": {
  "anaconda-cloud": {},
  "kernelspec": {
   "display_name": "Python [py27]",
   "language": "python",
   "name": "Python [py27]"
  },
  "language_info": {
   "codemirror_mode": {
    "name": "ipython",
    "version": 2
   },
   "file_extension": ".py",
   "mimetype": "text/x-python",
   "name": "python",
   "nbconvert_exporter": "python",
   "pygments_lexer": "ipython2",
   "version": "2.7.12"
  }
 },
 "nbformat": 4,
 "nbformat_minor": 0
}
