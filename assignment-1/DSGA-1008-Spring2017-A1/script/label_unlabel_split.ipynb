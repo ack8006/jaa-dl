{
 "cells": [
  {
   "cell_type": "code",
   "execution_count": 1,
   "metadata": {
    "collapsed": true
   },
   "outputs": [],
   "source": [
    "from __future__ import print_function\n",
    "import pickle \n",
    "import numpy as np\n",
    "import argparse\n",
    "import torch\n",
    "import torch.nn as nn\n",
    "import torch.nn.functional as F\n",
    "import torch.optim as optim\n",
    "from torchvision import datasets, transforms\n",
    "from torch.autograd import Variable"
   ]
  },
  {
   "cell_type": "code",
   "execution_count": 2,
   "metadata": {
    "collapsed": false
   },
   "outputs": [
    {
     "name": "stdout",
     "output_type": "stream",
     "text": [
      "Files already downloaded\n",
      "3000\n",
      "750\n"
     ]
    }
   ],
   "source": [
    "from sub import subMNIST       # testing the subclass of MNIST dataset"
   ]
  },
  {
   "cell_type": "markdown",
   "metadata": {},
   "source": [
    "# Split Data"
   ]
  },
  {
   "cell_type": "code",
   "execution_count": 4,
   "metadata": {
    "collapsed": true
   },
   "outputs": [],
   "source": [
    "transform=transforms.Compose([transforms.ToTensor(),\n",
    "                              transforms.Normalize((0.1307,), (0.3081,))\n",
    "                             ])"
   ]
  },
  {
   "cell_type": "code",
   "execution_count": 4,
   "metadata": {
    "collapsed": false
   },
   "outputs": [
    {
     "name": "stdout",
     "output_type": "stream",
     "text": [
      "Files already downloaded\n"
     ]
    }
   ],
   "source": [
    "trainset_original = datasets.MNIST('../data', train=True, download=True,\n",
    "                                  transform=transform)"
   ]
  },
  {
   "cell_type": "code",
   "execution_count": 5,
   "metadata": {
    "collapsed": false
   },
   "outputs": [],
   "source": [
    "train_label_index = []\n",
    "valid_label_index = []\n",
    "for i in range(10):\n",
    "    train_label_list = trainset_original.train_labels.numpy()\n",
    "    label_index = np.where(train_label_list == i)[0]\n",
    "    label_subindex = list(label_index[:300])\n",
    "    valid_subindex = list(label_index[300: 1000 + 300])\n",
    "    train_label_index += label_subindex\n",
    "    valid_label_index += valid_subindex"
   ]
  },
  {
   "cell_type": "markdown",
   "metadata": {},
   "source": [
    "## Train Set"
   ]
  },
  {
   "cell_type": "code",
   "execution_count": 6,
   "metadata": {
    "collapsed": false
   },
   "outputs": [],
   "source": [
    "trainset_np = trainset_original.train_data.numpy()\n",
    "trainset_label_np = trainset_original.train_labels.numpy()\n",
    "train_data_sub = torch.from_numpy(trainset_np[train_label_index])\n",
    "train_labels_sub = torch.from_numpy(trainset_label_np[train_label_index])"
   ]
  },
  {
   "cell_type": "code",
   "execution_count": 7,
   "metadata": {
    "collapsed": false
   },
   "outputs": [
    {
     "name": "stdout",
     "output_type": "stream",
     "text": [
      "Files already downloaded\n"
     ]
    }
   ],
   "source": [
    "trainset_new = subMNIST(root='./data', train=True, download=True, transform=transform, k=3000)\n",
    "trainset_new.train_data = train_data_sub.clone()\n",
    "trainset_new.train_labels = train_labels_sub.clone()"
   ]
  },
  {
   "cell_type": "code",
   "execution_count": 8,
   "metadata": {
    "collapsed": false
   },
   "outputs": [
    {
     "data": {
      "text/plain": [
       "torch.Size([3000, 28, 28])"
      ]
     },
     "execution_count": 8,
     "metadata": {},
     "output_type": "execute_result"
    }
   ],
   "source": [
    "trainset_new.train_data.size()"
   ]
  },
  {
   "cell_type": "code",
   "execution_count": 9,
   "metadata": {
    "collapsed": true
   },
   "outputs": [],
   "source": [
    "pickle.dump(trainset_new, open(\"train_labeled.p\", \"wb\" ))"
   ]
  },
  {
   "cell_type": "markdown",
   "metadata": {},
   "source": [
    "## Validation Set"
   ]
  },
  {
   "cell_type": "code",
   "execution_count": 14,
   "metadata": {
    "collapsed": true
   },
   "outputs": [],
   "source": [
    "validset_np = trainset_original.train_data.numpy()\n",
    "validset_label_np = trainset_original.train_labels.numpy()\n",
    "valid_data_sub = torch.from_numpy(validset_np[valid_label_index])\n",
    "valid_labels_sub = torch.from_numpy(validset_label_np[valid_label_index])"
   ]
  },
  {
   "cell_type": "code",
   "execution_count": 15,
   "metadata": {
    "collapsed": false
   },
   "outputs": [
    {
     "name": "stdout",
     "output_type": "stream",
     "text": [
      "Files already downloaded\n"
     ]
    }
   ],
   "source": [
    "validset = subMNIST(root='./data', train=False, download=True, transform=transform, k=10000)\n",
    "validset.test_data = valid_data_sub.clone()\n",
    "validset.test_labels = valid_labels_sub.clone()"
   ]
  },
  {
   "cell_type": "code",
   "execution_count": 16,
   "metadata": {
    "collapsed": false
   },
   "outputs": [
    {
     "data": {
      "text/plain": [
       "torch.Size([10000, 28, 28])"
      ]
     },
     "execution_count": 16,
     "metadata": {},
     "output_type": "execute_result"
    }
   ],
   "source": [
    "validset.test_data.size()"
   ]
  },
  {
   "cell_type": "code",
   "execution_count": 17,
   "metadata": {
    "collapsed": true
   },
   "outputs": [],
   "source": [
    "pickle.dump(validset, open(\"validation.p\", \"wb\" ))"
   ]
  },
  {
   "cell_type": "markdown",
   "metadata": {
    "collapsed": true
   },
   "source": [
    "## Unlabeled Data"
   ]
  },
  {
   "cell_type": "code",
   "execution_count": 18,
   "metadata": {
    "collapsed": false
   },
   "outputs": [],
   "source": [
    "train_unlabel_index = []\n",
    "for i in range(60000):\n",
    "    if i in train_label_index or i in valid_label_index:\n",
    "        pass\n",
    "    else:\n",
    "        train_unlabel_index.append(i)"
   ]
  },
  {
   "cell_type": "code",
   "execution_count": 19,
   "metadata": {
    "collapsed": false
   },
   "outputs": [],
   "source": [
    "trainset_np = trainset_original.train_data.numpy()\n",
    "trainset_label_np = trainset_original.train_labels.numpy()\n",
    "train_data_sub_unl = torch.from_numpy(trainset_np[train_unlabel_index])\n",
    "train_labels_sub_unl = torch.from_numpy(trainset_label_np[train_unlabel_index])"
   ]
  },
  {
   "cell_type": "code",
   "execution_count": 20,
   "metadata": {
    "collapsed": false
   },
   "outputs": [
    {
     "name": "stdout",
     "output_type": "stream",
     "text": [
      "Files already downloaded\n"
     ]
    }
   ],
   "source": [
    "trainset_new_unl = subMNIST(root='./data', train=True, download=True, transform=transform, k=47000)\n",
    "trainset_new_unl.train_data = train_data_sub_unl.clone()\n",
    "trainset_new_unl.train_labels = None      # Unlabeled!!"
   ]
  },
  {
   "cell_type": "code",
   "execution_count": 21,
   "metadata": {
    "collapsed": false
   },
   "outputs": [
    {
     "data": {
      "text/plain": [
       "torch.Size([47000, 28, 28])"
      ]
     },
     "execution_count": 21,
     "metadata": {},
     "output_type": "execute_result"
    }
   ],
   "source": [
    "trainset_new_unl.train_data.size()"
   ]
  },
  {
   "cell_type": "code",
   "execution_count": 22,
   "metadata": {
    "collapsed": false
   },
   "outputs": [],
   "source": [
    "trainset_new_unl.train_labels"
   ]
  },
  {
   "cell_type": "code",
   "execution_count": 23,
   "metadata": {
    "collapsed": true
   },
   "outputs": [],
   "source": [
    "pickle.dump(trainset_new_unl, open(\"train_unlabeled.p\", \"wb\" ))"
   ]
  },
  {
   "cell_type": "markdown",
   "metadata": {},
   "source": [
    "# Train Model"
   ]
  },
  {
   "cell_type": "code",
   "execution_count": 46,
   "metadata": {
    "collapsed": false
   },
   "outputs": [],
   "source": [
    "# train_loader = torch.utils.data.DataLoader(trainset_new, batch_size=64, shuffle=True)\n",
    "# valid_loader = torch.utils.data.DataLoader(validset, batch_size=64, shuffle=True)"
   ]
  },
  {
   "cell_type": "code",
   "execution_count": 24,
   "metadata": {
    "collapsed": false
   },
   "outputs": [],
   "source": [
    "trainset_imoprt = pickle.load(open(\"train_labeled.p\", \"rb\"))\n",
    "validset_import = pickle.load(open(\"validation.p\", \"rb\"))"
   ]
  },
  {
   "cell_type": "code",
   "execution_count": 25,
   "metadata": {
    "collapsed": true
   },
   "outputs": [],
   "source": [
    "train_loader = torch.utils.data.DataLoader(trainset_imoprt, batch_size=64, shuffle=True)\n",
    "valid_loader = torch.utils.data.DataLoader(validset_import, batch_size=64, shuffle=True)"
   ]
  },
  {
   "cell_type": "code",
   "execution_count": 26,
   "metadata": {
    "collapsed": true
   },
   "outputs": [],
   "source": [
    "class Net(nn.Module):\n",
    "    def __init__(self):\n",
    "        super(Net, self).__init__()\n",
    "        self.conv1 = nn.Conv2d(1, 10, kernel_size=5)\n",
    "        self.conv2 = nn.Conv2d(10, 20, kernel_size=5)\n",
    "        self.conv2_drop = nn.Dropout2d()\n",
    "        self.fc1 = nn.Linear(320, 50)\n",
    "        self.fc2 = nn.Linear(50, 10)\n",
    "\n",
    "    def forward(self, x):\n",
    "        x = F.relu(F.max_pool2d(self.conv1(x), 2))\n",
    "        x = F.relu(F.max_pool2d(self.conv2_drop(self.conv2(x)), 2))\n",
    "        x = x.view(-1, 320)\n",
    "        x = F.relu(self.fc1(x))\n",
    "        x = F.dropout(x, training=self.training)\n",
    "        x = F.relu(self.fc2(x))\n",
    "        return F.log_softmax(x)\n",
    "\n",
    "model = Net()"
   ]
  },
  {
   "cell_type": "code",
   "execution_count": 27,
   "metadata": {
    "collapsed": true
   },
   "outputs": [],
   "source": [
    "optimizer = optim.SGD(model.parameters(), lr=0.01, momentum=0.5)"
   ]
  },
  {
   "cell_type": "code",
   "execution_count": 28,
   "metadata": {
    "collapsed": false
   },
   "outputs": [],
   "source": [
    "# CPU only training\n",
    "def train(epoch):\n",
    "    model.train()\n",
    "    for batch_idx, (data, target) in enumerate(train_loader):\n",
    "\n",
    "        data, target = Variable(data), Variable(target)\n",
    "        optimizer.zero_grad()\n",
    "        output = model(data)\n",
    "        loss = F.nll_loss(output, target)\n",
    "        loss.backward()\n",
    "        optimizer.step()\n",
    "        if batch_idx % 10 == 0:\n",
    "            print('Train Epoch: {} [{}/{} ({:.0f}%)]\\tLoss: {:.6f}'.format(\n",
    "                epoch, batch_idx * len(data), len(train_loader.dataset),\n",
    "                100. * batch_idx / len(train_loader), loss.data[0]))\n",
    "\n",
    "def test(epoch, valid_loader):\n",
    "    model.eval()\n",
    "    test_loss = 0\n",
    "    correct = 0\n",
    "    for data, target in valid_loader:\n",
    "\n",
    "        data, target = Variable(data, volatile=True), Variable(target)\n",
    "        output = model(data)\n",
    "        test_loss += F.nll_loss(output, target).data[0]\n",
    "        pred = output.data.max(1)[1] # get the index of the max log-probability\n",
    "        correct += pred.eq(target.data).cpu().sum()\n",
    "\n",
    "    test_loss /= len(valid_loader) # loss function already averages over batch size\n",
    "    print('\\nTest set: Average loss: {:.4f}, Accuracy: {}/{} ({:.0f}%)\\n'.format(\n",
    "        test_loss, correct, len(valid_loader.dataset),\n",
    "        100. * correct / len(valid_loader.dataset)))"
   ]
  },
  {
   "cell_type": "code",
   "execution_count": 29,
   "metadata": {
    "collapsed": false
   },
   "outputs": [
    {
     "name": "stdout",
     "output_type": "stream",
     "text": [
      "Train Epoch: 1 [0/3000 (0%)]\tLoss: 2.297755\n",
      "Train Epoch: 1 [640/3000 (21%)]\tLoss: 2.303268\n",
      "Train Epoch: 1 [1280/3000 (43%)]\tLoss: 2.281248\n",
      "Train Epoch: 1 [1920/3000 (64%)]\tLoss: 2.295728\n",
      "Train Epoch: 1 [2560/3000 (85%)]\tLoss: 2.287471\n",
      "\n",
      "Test set: Average loss: 2.2421, Accuracy: 2991/10000 (30%)\n",
      "\n",
      "Train Epoch: 2 [0/3000 (0%)]\tLoss: 2.256564\n",
      "Train Epoch: 2 [640/3000 (21%)]\tLoss: 2.294881\n",
      "Train Epoch: 2 [1280/3000 (43%)]\tLoss: 2.235558\n",
      "Train Epoch: 2 [1920/3000 (64%)]\tLoss: 2.182784\n",
      "Train Epoch: 2 [2560/3000 (85%)]\tLoss: 2.147934\n",
      "\n",
      "Test set: Average loss: 2.0761, Accuracy: 4127/10000 (41%)\n",
      "\n",
      "Train Epoch: 3 [0/3000 (0%)]\tLoss: 2.115228\n",
      "Train Epoch: 3 [640/3000 (21%)]\tLoss: 2.219966\n",
      "Train Epoch: 3 [1280/3000 (43%)]\tLoss: 1.955378\n",
      "Train Epoch: 3 [1920/3000 (64%)]\tLoss: 1.993819\n",
      "Train Epoch: 3 [2560/3000 (85%)]\tLoss: 1.802048\n",
      "\n",
      "Test set: Average loss: 1.5744, Accuracy: 6498/10000 (65%)\n",
      "\n",
      "Train Epoch: 4 [0/3000 (0%)]\tLoss: 1.813371\n",
      "Train Epoch: 4 [640/3000 (21%)]\tLoss: 1.755019\n",
      "Train Epoch: 4 [1280/3000 (43%)]\tLoss: 1.574936\n",
      "Train Epoch: 4 [1920/3000 (64%)]\tLoss: 1.538273\n",
      "Train Epoch: 4 [2560/3000 (85%)]\tLoss: 1.553412\n",
      "\n",
      "Test set: Average loss: 1.0256, Accuracy: 7798/10000 (78%)\n",
      "\n",
      "Train Epoch: 5 [0/3000 (0%)]\tLoss: 1.494687\n",
      "Train Epoch: 5 [640/3000 (21%)]\tLoss: 1.402885\n",
      "Train Epoch: 5 [1280/3000 (43%)]\tLoss: 1.241155\n",
      "Train Epoch: 5 [1920/3000 (64%)]\tLoss: 1.101134\n",
      "Train Epoch: 5 [2560/3000 (85%)]\tLoss: 1.088961\n",
      "\n",
      "Test set: Average loss: 0.7228, Accuracy: 8192/10000 (82%)\n",
      "\n",
      "Train Epoch: 6 [0/3000 (0%)]\tLoss: 1.187913\n",
      "Train Epoch: 6 [640/3000 (21%)]\tLoss: 0.867853\n",
      "Train Epoch: 6 [1280/3000 (43%)]\tLoss: 0.998205\n",
      "Train Epoch: 6 [1920/3000 (64%)]\tLoss: 0.928436\n",
      "Train Epoch: 6 [2560/3000 (85%)]\tLoss: 0.756741\n",
      "\n",
      "Test set: Average loss: 0.5867, Accuracy: 8370/10000 (84%)\n",
      "\n",
      "Train Epoch: 7 [0/3000 (0%)]\tLoss: 0.808935\n",
      "Train Epoch: 7 [640/3000 (21%)]\tLoss: 0.796096\n",
      "Train Epoch: 7 [1280/3000 (43%)]\tLoss: 0.948022\n",
      "Train Epoch: 7 [1920/3000 (64%)]\tLoss: 0.728689\n",
      "Train Epoch: 7 [2560/3000 (85%)]\tLoss: 0.834113\n",
      "\n",
      "Test set: Average loss: 0.5026, Accuracy: 8612/10000 (86%)\n",
      "\n",
      "Train Epoch: 8 [0/3000 (0%)]\tLoss: 0.802845\n",
      "Train Epoch: 8 [640/3000 (21%)]\tLoss: 0.898956\n",
      "Train Epoch: 8 [1280/3000 (43%)]\tLoss: 0.779392\n",
      "Train Epoch: 8 [1920/3000 (64%)]\tLoss: 0.873297\n",
      "Train Epoch: 8 [2560/3000 (85%)]\tLoss: 0.971641\n",
      "\n",
      "Test set: Average loss: 0.4685, Accuracy: 8689/10000 (87%)\n",
      "\n",
      "Train Epoch: 9 [0/3000 (0%)]\tLoss: 1.063896\n",
      "Train Epoch: 9 [640/3000 (21%)]\tLoss: 0.432753\n",
      "Train Epoch: 9 [1280/3000 (43%)]\tLoss: 0.855081\n",
      "Train Epoch: 9 [1920/3000 (64%)]\tLoss: 0.699631\n",
      "Train Epoch: 9 [2560/3000 (85%)]\tLoss: 0.717249\n",
      "\n",
      "Test set: Average loss: 0.4169, Accuracy: 8842/10000 (88%)\n",
      "\n",
      "Train Epoch: 10 [0/3000 (0%)]\tLoss: 0.710768\n",
      "Train Epoch: 10 [640/3000 (21%)]\tLoss: 0.792863\n",
      "Train Epoch: 10 [1280/3000 (43%)]\tLoss: 0.840584\n",
      "Train Epoch: 10 [1920/3000 (64%)]\tLoss: 0.784977\n",
      "Train Epoch: 10 [2560/3000 (85%)]\tLoss: 0.627070\n",
      "\n",
      "Test set: Average loss: 0.3822, Accuracy: 8893/10000 (89%)\n",
      "\n"
     ]
    }
   ],
   "source": [
    "for epoch in range(1, 11):\n",
    "    train(epoch)\n",
    "    test(epoch, valid_loader)"
   ]
  },
  {
   "cell_type": "markdown",
   "metadata": {},
   "source": [
    "# Create Sample Submission"
   ]
  },
  {
   "cell_type": "code",
   "execution_count": 5,
   "metadata": {
    "collapsed": false
   },
   "outputs": [],
   "source": [
    "testset = datasets.MNIST('../data', train=False, transform=transform)"
   ]
  },
  {
   "cell_type": "code",
   "execution_count": 7,
   "metadata": {
    "collapsed": false
   },
   "outputs": [],
   "source": [
    "pickle.dump(testset, open(\"test.p\", \"wb\" ))"
   ]
  },
  {
   "cell_type": "code",
   "execution_count": 30,
   "metadata": {
    "collapsed": false
   },
   "outputs": [],
   "source": [
    "test_loader = torch.utils.data.DataLoader(testset,batch_size=64, shuffle=False)"
   ]
  },
  {
   "cell_type": "markdown",
   "metadata": {},
   "source": [
    "## Test Accuuracy"
   ]
  },
  {
   "cell_type": "code",
   "execution_count": 31,
   "metadata": {
    "collapsed": false
   },
   "outputs": [
    {
     "name": "stdout",
     "output_type": "stream",
     "text": [
      "\n",
      "Test set: Average loss: 0.3514, Accuracy: 8988/10000 (90%)\n",
      "\n"
     ]
    }
   ],
   "source": [
    "test(1, test_loader)"
   ]
  },
  {
   "cell_type": "code",
   "execution_count": 32,
   "metadata": {
    "collapsed": false
   },
   "outputs": [],
   "source": [
    "label_predict = np.array([])\n",
    "model.eval()\n",
    "for data, target in test_loader:\n",
    "    data, target = Variable(data, volatile=True), Variable(target)\n",
    "    output = model(data)\n",
    "    temp = output.data.max(1)[1].numpy().reshape(-1)\n",
    "    label_predict = np.concatenate((label_predict, temp))"
   ]
  },
  {
   "cell_type": "code",
   "execution_count": 33,
   "metadata": {
    "collapsed": false
   },
   "outputs": [
    {
     "data": {
      "text/plain": [
       "array([ 7.,  2.,  1., ...,  4.,  5.,  6.])"
      ]
     },
     "execution_count": 33,
     "metadata": {},
     "output_type": "execute_result"
    }
   ],
   "source": [
    "label_predict"
   ]
  },
  {
   "cell_type": "code",
   "execution_count": 34,
   "metadata": {
    "collapsed": false
   },
   "outputs": [],
   "source": [
    "label_true = test_loader.dataset.test_labels.numpy()"
   ]
  },
  {
   "cell_type": "code",
   "execution_count": 35,
   "metadata": {
    "collapsed": false
   },
   "outputs": [],
   "source": [
    "diff_array = label_true - label_predict"
   ]
  },
  {
   "cell_type": "code",
   "execution_count": 36,
   "metadata": {
    "collapsed": false
   },
   "outputs": [
    {
     "data": {
      "text/plain": [
       "1012"
      ]
     },
     "execution_count": 36,
     "metadata": {},
     "output_type": "execute_result"
    }
   ],
   "source": [
    "len(np.where(diff_array != 0)[0])"
   ]
  },
  {
   "cell_type": "code",
   "execution_count": 38,
   "metadata": {
    "collapsed": false
   },
   "outputs": [],
   "source": [
    "import pandas as pd\n",
    "true_label = pd.DataFrame(label_true, columns=['label'])\n",
    "true_label.reset_index(inplace=True)\n",
    "true_label.rename(columns={'index': 'ID'}, inplace=True)"
   ]
  },
  {
   "cell_type": "code",
   "execution_count": 39,
   "metadata": {
    "collapsed": false
   },
   "outputs": [
    {
     "data": {
      "text/html": [
       "<div>\n",
       "<table border=\"1\" class=\"dataframe\">\n",
       "  <thead>\n",
       "    <tr style=\"text-align: right;\">\n",
       "      <th></th>\n",
       "      <th>ID</th>\n",
       "      <th>label</th>\n",
       "    </tr>\n",
       "  </thead>\n",
       "  <tbody>\n",
       "    <tr>\n",
       "      <th>0</th>\n",
       "      <td>0</td>\n",
       "      <td>7</td>\n",
       "    </tr>\n",
       "    <tr>\n",
       "      <th>1</th>\n",
       "      <td>1</td>\n",
       "      <td>2</td>\n",
       "    </tr>\n",
       "    <tr>\n",
       "      <th>2</th>\n",
       "      <td>2</td>\n",
       "      <td>1</td>\n",
       "    </tr>\n",
       "    <tr>\n",
       "      <th>3</th>\n",
       "      <td>3</td>\n",
       "      <td>0</td>\n",
       "    </tr>\n",
       "    <tr>\n",
       "      <th>4</th>\n",
       "      <td>4</td>\n",
       "      <td>4</td>\n",
       "    </tr>\n",
       "  </tbody>\n",
       "</table>\n",
       "</div>"
      ],
      "text/plain": [
       "   ID  label\n",
       "0   0      7\n",
       "1   1      2\n",
       "2   2      1\n",
       "3   3      0\n",
       "4   4      4"
      ]
     },
     "execution_count": 39,
     "metadata": {},
     "output_type": "execute_result"
    }
   ],
   "source": [
    "true_label.head()"
   ]
  },
  {
   "cell_type": "code",
   "execution_count": 40,
   "metadata": {
    "collapsed": true
   },
   "outputs": [],
   "source": [
    "predict_label = pd.DataFrame(label_predict, columns=['label'], dtype=int)\n",
    "predict_label.reset_index(inplace=True)\n",
    "predict_label.rename(columns={'index': 'ID'}, inplace=True)"
   ]
  },
  {
   "cell_type": "code",
   "execution_count": 41,
   "metadata": {
    "collapsed": false
   },
   "outputs": [
    {
     "data": {
      "text/html": [
       "<div>\n",
       "<table border=\"1\" class=\"dataframe\">\n",
       "  <thead>\n",
       "    <tr style=\"text-align: right;\">\n",
       "      <th></th>\n",
       "      <th>ID</th>\n",
       "      <th>label</th>\n",
       "    </tr>\n",
       "  </thead>\n",
       "  <tbody>\n",
       "    <tr>\n",
       "      <th>0</th>\n",
       "      <td>0</td>\n",
       "      <td>7</td>\n",
       "    </tr>\n",
       "    <tr>\n",
       "      <th>1</th>\n",
       "      <td>1</td>\n",
       "      <td>2</td>\n",
       "    </tr>\n",
       "    <tr>\n",
       "      <th>2</th>\n",
       "      <td>2</td>\n",
       "      <td>1</td>\n",
       "    </tr>\n",
       "    <tr>\n",
       "      <th>3</th>\n",
       "      <td>3</td>\n",
       "      <td>0</td>\n",
       "    </tr>\n",
       "    <tr>\n",
       "      <th>4</th>\n",
       "      <td>4</td>\n",
       "      <td>4</td>\n",
       "    </tr>\n",
       "  </tbody>\n",
       "</table>\n",
       "</div>"
      ],
      "text/plain": [
       "   ID  label\n",
       "0   0      7\n",
       "1   1      2\n",
       "2   2      1\n",
       "3   3      0\n",
       "4   4      4"
      ]
     },
     "execution_count": 41,
     "metadata": {},
     "output_type": "execute_result"
    }
   ],
   "source": [
    "predict_label.head()"
   ]
  },
  {
   "cell_type": "code",
   "execution_count": 53,
   "metadata": {
    "collapsed": false
   },
   "outputs": [],
   "source": [
    "predict_label.to_csv('sample_submission.csv', index=False)\n",
    "true_label.to_csv('true_label.csv', index=False)"
   ]
  }
 ],
 "metadata": {
  "anaconda-cloud": {},
  "kernelspec": {
   "display_name": "Python 2",
   "language": "python",
   "name": "python2"
  },
  "language_info": {
   "codemirror_mode": {
    "name": "ipython",
    "version": 2
   },
   "file_extension": ".py",
   "mimetype": "text/x-python",
   "name": "python",
   "nbconvert_exporter": "python",
   "pygments_lexer": "ipython2",
   "version": "2.7.13"
  }
 },
 "nbformat": 4,
 "nbformat_minor": 2
}
