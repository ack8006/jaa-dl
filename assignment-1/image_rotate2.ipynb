{
 "cells": [
  {
   "cell_type": "code",
   "execution_count": 2,
   "metadata": {
    "collapsed": false
   },
   "outputs": [],
   "source": [
    "import pickle\n",
    "import os\n",
    "import gzip\n",
    "import urllib\n",
    "\n",
    "import numpy as np\n",
    "import matplotlib.pyplot as plt\n",
    "\n",
    "import torch\n",
    "from torch.autograd import Variable\n",
    "from torch.utils.data import TensorDataset, DataLoader\n",
    "\n",
    "from scipy.ndimage.interpolation import map_coordinates\n",
    "from scipy.ndimage.filters import gaussian_filter\n",
    "\n",
    "%matplotlib inline"
   ]
  },
  {
   "cell_type": "code",
   "execution_count": 2,
   "metadata": {
    "collapsed": false
   },
   "outputs": [
    {
     "name": "stdout",
     "output_type": "stream",
     "text": [
      "Files already downloaded\n",
      "3000\n",
      "750\n"
     ]
    }
   ],
   "source": [
    "trainset_labeled = pickle.load(open(\"data/train_labeled.p\", \"rb\"))"
   ]
  },
  {
   "cell_type": "code",
   "execution_count": 3,
   "metadata": {
    "collapsed": true
   },
   "outputs": [],
   "source": [
    "# https://github.com/mnielsen/neural-networks-and-deep-learning/blob/master/fig/mnist.py\n",
    "def rotate_image(image, theta = 0.5):\n",
    "    rot_image = np.zeros((28,28))\n",
    "    def to_xy(j, k):\n",
    "        # Converts from matrix indices to x, y co-ords, using the\n",
    "        # 13, 14 matrix entry as the origin\n",
    "        return (k-13, -j+14) # x range: -13..14, y range: -13..14\n",
    "    def to_jk(x, y):\n",
    "        # Converts from x, y co-ords to matrix indices\n",
    "        return (-y+14, x+13)\n",
    "    def image_value(image, x, y):\n",
    "        j, k = to_jk(x, y)\n",
    "        return image[j, k]\n",
    "    for j in range(28):\n",
    "        for k in range(28):\n",
    "            x, y = to_xy(j, k)\n",
    "            # rotate by -theta\n",
    "            x1 = np.cos(theta)*x + np.sin(theta)*y\n",
    "            y1 = -np.sin(theta)*x + np.cos(theta)*y\n",
    "            # Nearest integer x entries are x2 and x2+1. delta_x \n",
    "            # measures how to interpolate\n",
    "            x2 = np.floor(x1)\n",
    "            delta_x = x1-x2\n",
    "            # Similarly for y\n",
    "            y2 = np.floor(y1)\n",
    "            delta_y = y1-y2\n",
    "            # Check if we're out of bounds, and if so continue to next entry\n",
    "            # This will miss a boundary row and layer, but that's okay,\n",
    "            # MNIST digits usually don't go that near the boundary.\n",
    "            if x2 < -13 or x2 > 13 or y2 < -13 or y2 > 13: continue\n",
    "            # If we're in bounds, average the nearby entries.\n",
    "            value \\\n",
    "                = (1-delta_x)*(1-delta_y)*image_value(image, x2, y2)+\\\n",
    "                (1-delta_x)*delta_y*image_value(image, x2, y2+1)+\\\n",
    "                delta_x*(1-delta_y)*image_value(image, x2+1, y2)+\\\n",
    "                delta_x*delta_y*image_value(image, x2+1, y2+1)\n",
    "            # Rescale the value by a hand-set fudge factor.  This\n",
    "            # seems to be necessary because the averaging doesn't\n",
    "            # quite work right.  The fudge-factor should probably be\n",
    "            # theta-dependent, but I've set it by hand.  \n",
    "#             rot_image[j, k] = 1.3*value\n",
    "            rot_image[j, k] = int(value)# int(1.3*value)\n",
    "#     plot_mnist_digit(rot_image)\n",
    "    return rot_image"
   ]
  },
  {
   "cell_type": "code",
   "execution_count": 4,
   "metadata": {
    "collapsed": true
   },
   "outputs": [],
   "source": [
    "#https://gist.github.com/chsasank/4d8f68caf01f041a6453e67fb30f8f5a\n",
    "\n",
    "def elastic_transform(image, alpha, sigma, random_state=None):\n",
    "    \"\"\"Elastic deformation of images as described in [Simard2003]_.\n",
    "    .. [Simard2003] Simard, Steinkraus and Platt, \"Best Practices for\n",
    "       Convolutional Neural Networks applied to Visual Document Analysis\", in\n",
    "       Proc. of the International Conference on Document Analysis and\n",
    "       Recognition, 2003.\n",
    "    \"\"\"\n",
    "    assert len(image.shape)==2\n",
    "\n",
    "    if random_state is None:\n",
    "        random_state = np.random.RandomState(None)\n",
    "\n",
    "    shape = image.shape\n",
    "\n",
    "    dx = gaussian_filter((random_state.rand(*shape) * 2 - 1), sigma, mode=\"constant\", cval=0) * alpha\n",
    "    dy = gaussian_filter((random_state.rand(*shape) * 2 - 1), sigma, mode=\"constant\", cval=0) * alpha\n",
    "\n",
    "    x, y = np.meshgrid(np.arange(shape[0]), np.arange(shape[1]), indexing='ij')\n",
    "    indices = np.reshape(x+dx, (-1, 1)), np.reshape(y+dy, (-1, 1))\n",
    "    \n",
    "    return map_coordinates(image, indices, order=1).reshape(shape)"
   ]
  },
  {
   "cell_type": "code",
   "execution_count": 19,
   "metadata": {
    "collapsed": false
   },
   "outputs": [],
   "source": [
    "def imshow(img):\n",
    "    if isinstance(img, torch.ByteTensor):\n",
    "        img = img.numpy()\n",
    "    if img.shape[0] > 784:\n",
    "        img = img.reshape(28,28)\n",
    "    \n",
    "    plt.imshow(img, cmap='gray')"
   ]
  },
  {
   "cell_type": "code",
   "execution_count": 6,
   "metadata": {
    "collapsed": true
   },
   "outputs": [],
   "source": [
    "def grey_inverse(img):\n",
    "    new_img = []\n",
    "    for x in img:\n",
    "        new_img.append(255.0-x)\n",
    "    return np.array(new_img)\n",
    "\n",
    "def sharpen(img):\n",
    "    new_img = []\n",
    "    for x in img:\n",
    "        if x > 155: \n",
    "            x += int((255-x)/2.5)\n",
    "        elif x < 100:\n",
    "            x = 0\n",
    "        \n",
    "        new_img.append(x)\n",
    "    return np.array(new_img)"
   ]
  },
  {
   "cell_type": "code",
   "execution_count": 40,
   "metadata": {
    "collapsed": true
   },
   "outputs": [],
   "source": [
    "ALPHA = 36\n",
    "SIGMA = 5.5\n",
    "ROTATIONS = (-0.35, 0.35)"
   ]
  },
  {
   "cell_type": "code",
   "execution_count": 42,
   "metadata": {
    "collapsed": false
   },
   "outputs": [
    {
     "name": "stdout",
     "output_type": "stream",
     "text": [
      "0\n"
     ]
    },
    {
     "name": "stderr",
     "output_type": "stream",
     "text": [
      "/Users/Alex/anaconda/lib/python2.7/site-packages/ipykernel/__main__.py:13: VisibleDeprecationWarning: using a non-integer number instead of an integer will result in an error in the future\n"
     ]
    },
    {
     "name": "stdout",
     "output_type": "stream",
     "text": [
      "10\n",
      "20\n",
      "30\n",
      "40\n",
      "50\n",
      "60\n",
      "70\n",
      "80\n",
      "90\n",
      "100\n",
      "110\n",
      "120\n",
      "130\n",
      "140\n",
      "150\n",
      "160\n",
      "170\n",
      "180\n",
      "190\n",
      "200\n",
      "210\n",
      "220\n",
      "230\n",
      "240\n",
      "250\n",
      "260\n",
      "270\n",
      "280\n",
      "290\n",
      "300\n",
      "310\n",
      "320\n",
      "330\n",
      "340\n",
      "350\n",
      "360\n",
      "370\n",
      "380\n",
      "390\n",
      "400\n",
      "410\n",
      "420\n",
      "430\n",
      "440\n",
      "450\n",
      "460\n",
      "470\n",
      "480\n",
      "490\n",
      "500\n",
      "510\n",
      "520\n",
      "530\n",
      "540\n",
      "550\n",
      "560\n",
      "570\n",
      "580\n",
      "590\n",
      "600\n",
      "610\n",
      "620\n",
      "630\n",
      "640\n",
      "650\n",
      "660\n",
      "670\n",
      "680\n",
      "690\n",
      "700\n",
      "710\n",
      "720\n",
      "730\n",
      "740\n",
      "750\n",
      "760\n",
      "770\n",
      "780\n",
      "790\n",
      "800\n",
      "810\n",
      "820\n",
      "830\n",
      "840\n",
      "850\n",
      "860\n",
      "870\n",
      "880\n",
      "890\n",
      "900\n",
      "910\n",
      "920\n",
      "930\n",
      "940\n",
      "950\n",
      "960\n",
      "970\n",
      "980\n",
      "990\n",
      "1000\n",
      "1010\n",
      "1020\n",
      "1030\n",
      "1040\n",
      "1050\n",
      "1060\n",
      "1070\n",
      "1080\n",
      "1090\n",
      "1100\n",
      "1110\n",
      "1120\n",
      "1130\n",
      "1140\n",
      "1150\n",
      "1160\n",
      "1170\n",
      "1180\n",
      "1190\n",
      "1200\n",
      "1210\n",
      "1220\n",
      "1230\n",
      "1240\n",
      "1250\n",
      "1260\n",
      "1270\n",
      "1280\n",
      "1290\n",
      "1300\n",
      "1310\n",
      "1320\n",
      "1330\n",
      "1340\n",
      "1350\n",
      "1360\n",
      "1370\n",
      "1380\n",
      "1390\n",
      "1400\n",
      "1410\n",
      "1420\n",
      "1430\n",
      "1440\n",
      "1450\n",
      "1460\n",
      "1470\n",
      "1480\n",
      "1490\n",
      "1500\n",
      "1510\n",
      "1520\n",
      "1530\n",
      "1540\n",
      "1550\n",
      "1560\n",
      "1570\n",
      "1580\n",
      "1590\n",
      "1600\n",
      "1610\n",
      "1620\n",
      "1630\n",
      "1640\n",
      "1650\n",
      "1660\n",
      "1670\n",
      "1680\n",
      "1690\n",
      "1700\n",
      "1710\n",
      "1720\n",
      "1730\n",
      "1740\n",
      "1750\n",
      "1760\n",
      "1770\n",
      "1780\n",
      "1790\n",
      "1800\n",
      "1810\n",
      "1820\n",
      "1830\n",
      "1840\n",
      "1850\n",
      "1860\n",
      "1870\n",
      "1880\n",
      "1890\n",
      "1900\n",
      "1910\n",
      "1920\n",
      "1930\n",
      "1940\n",
      "1950\n",
      "1960\n",
      "1970\n",
      "1980\n",
      "1990\n",
      "2000\n",
      "2010\n",
      "2020\n",
      "2030\n",
      "2040\n",
      "2050\n",
      "2060\n",
      "2070\n",
      "2080\n",
      "2090\n",
      "2100\n",
      "2110\n",
      "2120\n",
      "2130\n",
      "2140\n",
      "2150\n",
      "2160\n",
      "2170\n",
      "2180\n",
      "2190\n",
      "2200\n",
      "2210\n",
      "2220\n",
      "2230\n",
      "2240\n",
      "2250\n",
      "2260\n",
      "2270\n",
      "2280\n",
      "2290\n",
      "2300\n",
      "2310\n",
      "2320\n",
      "2330\n",
      "2340\n",
      "2350\n",
      "2360\n",
      "2370\n",
      "2380\n",
      "2390\n",
      "2400\n",
      "2410\n",
      "2420\n",
      "2430\n",
      "2440\n",
      "2450\n",
      "2460\n",
      "2470\n",
      "2480\n",
      "2490\n",
      "2500\n",
      "2510\n",
      "2520\n",
      "2530\n",
      "2540\n",
      "2550\n",
      "2560\n",
      "2570\n",
      "2580\n",
      "2590\n",
      "2600\n",
      "2610\n",
      "2620\n",
      "2630\n",
      "2640\n",
      "2650\n",
      "2660\n",
      "2670\n",
      "2680\n",
      "2690\n",
      "2700\n",
      "2710\n",
      "2720\n",
      "2730\n",
      "2740\n",
      "2750\n",
      "2760\n",
      "2770\n",
      "2780\n",
      "2790\n",
      "2800\n",
      "2810\n",
      "2820\n",
      "2830\n",
      "2840\n",
      "2850\n",
      "2860\n",
      "2870\n",
      "2880\n",
      "2890\n",
      "2900\n",
      "2910\n",
      "2920\n",
      "2930\n",
      "2940\n",
      "2950\n",
      "2960\n",
      "2970\n",
      "2980\n",
      "2990\n"
     ]
    }
   ],
   "source": [
    "new_train_data = []\n",
    "new_train_labels = []\n",
    "\n",
    "count = 0\n",
    "for img, val in zip(trainset_labeled.train_data, trainset_labeled.train_labels):\n",
    "    if count % 10 == 0:\n",
    "        print count\n",
    "    count += 1\n",
    "    img = img.numpy()\n",
    "    new_train_data.append(img)\n",
    "    new_train_labels.append(val)\n",
    "\n",
    "    for theta in ROTATIONS:\n",
    "        new_train_data.append(rotate_image(img, theta)) \n",
    "#         new_train_data.append(sharpen(rotate_image(img, theta).flatten()).reshape(28,28))\n",
    "        new_train_labels.append(val)\n",
    "    for _ in xrange(2):\n",
    "        img2 = elastic_transform(img, ALPHA, SIGMA)\n",
    "        new_train_data.append(rotate_image(img2, theta))\n",
    "        new_train_labels.append(val)\n",
    "        for theta in ROTATIONS:\n",
    "            new_train_data.append(rotate_image(img2, theta))        \n",
    "#             new_train_data.append(sharpen(rotate_image(img, theta).flatten()).reshape(28,28))\n",
    "            new_train_labels.append(val)\n",
    "    \n",
    "    \n",
    "    "
   ]
  },
  {
   "cell_type": "code",
   "execution_count": 44,
   "metadata": {
    "collapsed": false
   },
   "outputs": [],
   "source": [
    "pickle.dump(new_train_data, open('data/generated_train_data.p', 'wb'))\n",
    "pickle.dump(new_train_labels, open('data/generated_train_labels.p', 'wb'))"
   ]
  },
  {
   "cell_type": "code",
   "execution_count": 79,
   "metadata": {
    "collapsed": false
   },
   "outputs": [],
   "source": [
    "train_features = pickle.load(open('data/generated_train_data.p','rb'))\n",
    "train_labels = pickle.load(open('data/generated_train_labels.p','rb'))"
   ]
  },
  {
   "cell_type": "code",
   "execution_count": 78,
   "metadata": {
    "collapsed": false
   },
   "outputs": [],
   "source": [
    "from sklearn.preprocessing import scale"
   ]
  },
  {
   "cell_type": "code",
   "execution_count": 80,
   "metadata": {
    "collapsed": true
   },
   "outputs": [],
   "source": [
    "train_features = [x.flatten() for x in train_features]"
   ]
  },
  {
   "cell_type": "code",
   "execution_count": 81,
   "metadata": {
    "collapsed": false
   },
   "outputs": [],
   "source": [
    "train_features = scale(train_features)"
   ]
  },
  {
   "cell_type": "code",
   "execution_count": 82,
   "metadata": {
    "collapsed": false
   },
   "outputs": [],
   "source": [
    "train_features = [x.reshape(28,28) for x in normalize(train_features)]"
   ]
  },
  {
   "cell_type": "code",
   "execution_count": 84,
   "metadata": {
    "collapsed": false
   },
   "outputs": [
    {
     "data": {
      "image/png": "[encoded data removed]",
      "text/plain": [
       "<matplotlib.figure.Figure at 0x110ece890>"
      ]
     },
     "metadata": {},
     "output_type": "display_data"
    }
   ],
   "source": [
    "imshow(train_features[2])"
   ]
  },
  {
   "cell_type": "code",
   "execution_count": 74,
   "metadata": {
    "collapsed": true
   },
   "outputs": [],
   "source": [
    "validset = pickle.load(open(\"data/validation.p\", \"rb\"))"
   ]
  },
  {
   "cell_type": "code",
   "execution_count": 89,
   "metadata": {
    "collapsed": false
   },
   "outputs": [],
   "source": [
    "scaled_test_data = [x.numpy().flatten() for x in validset.test_data]"
   ]
  },
  {
   "cell_type": "code",
   "execution_count": 90,
   "metadata": {
    "collapsed": false
   },
   "outputs": [],
   "source": [
    "scaled_test_data = scale(scaled_test_data)"
   ]
  },
  {
   "cell_type": "code",
   "execution_count": 95,
   "metadata": {
    "collapsed": false
   },
   "outputs": [],
   "source": [
    "scaled_test_data = [x.reshape(28,28) for x in scaled_test_data]"
   ]
  },
  {
   "cell_type": "code",
   "execution_count": 97,
   "metadata": {
    "collapsed": false
   },
   "outputs": [
    {
     "data": {
      "text/plain": [
       "\n",
       " 0\n",
       " 0\n",
       " 0\n",
       "⋮ \n",
       " 9\n",
       " 9\n",
       " 9\n",
       "[torch.LongTensor of size 10000]"
      ]
     },
     "execution_count": 97,
     "metadata": {},
     "output_type": "execute_result"
    }
   ],
   "source": [
    "validset.test_labels"
   ]
  },
  {
   "cell_type": "code",
   "execution_count": 96,
   "metadata": {
    "collapsed": false
   },
   "outputs": [
    {
     "data": {
      "image/png": "[encoded data removed]",
      "text/plain": [
       "<matplotlib.figure.Figure at 0x11c3d1990>"
      ]
     },
     "metadata": {},
     "output_type": "display_data"
    }
   ],
   "source": [
    "imshow(scaled_test_data[0])"
   ]
  },
  {
   "cell_type": "code",
   "execution_count": null,
   "metadata": {
    "collapsed": true
   },
   "outputs": [],
   "source": []
  },
  {
   "cell_type": "code",
   "execution_count": 4,
   "metadata": {
    "collapsed": false
   },
   "outputs": [],
   "source": [
    "train_features = torch.FloatTensor(np.array(train_features))"
   ]
  },
  {
   "cell_type": "code",
   "execution_count": 5,
   "metadata": {
    "collapsed": false
   },
   "outputs": [],
   "source": [
    "train_labels = torch.FloatTensor(np.array(train_labels))"
   ]
  },
  {
   "cell_type": "code",
   "execution_count": 6,
   "metadata": {
    "collapsed": false
   },
   "outputs": [],
   "source": [
    "train_dataset = TensorDataset(train_features, train_labels)"
   ]
  },
  {
   "cell_type": "code",
   "execution_count": 7,
   "metadata": {
    "collapsed": false
   },
   "outputs": [],
   "source": [
    "train_loader = torch.utils.data.DataLoader(train_dataset)"
   ]
  },
  {
   "cell_type": "code",
   "execution_count": 31,
   "metadata": {
    "collapsed": false
   },
   "outputs": [
    {
     "data": {
      "text/plain": [
       "torch.Size([27000, 28, 28])"
      ]
     },
     "execution_count": 31,
     "metadata": {},
     "output_type": "execute_result"
    }
   ],
   "source": [
    "train_loader.dataset.data_tensor.size()"
   ]
  },
  {
   "cell_type": "code",
   "execution_count": 15,
   "metadata": {
    "collapsed": false
   },
   "outputs": [],
   "source": [
    "trainset_labeled = pickle.load(open(\"data/train_labeled.p\", \"rb\"))"
   ]
  },
  {
   "cell_type": "code",
   "execution_count": 28,
   "metadata": {
    "collapsed": false,
    "scrolled": true
   },
   "outputs": [
    {
     "data": {
      "text/plain": [
       "torch.Size([3000, 28, 28])"
      ]
     },
     "execution_count": 28,
     "metadata": {},
     "output_type": "execute_result"
    }
   ],
   "source": [
    "trainset_labeled.train_data.size()"
   ]
  },
  {
   "cell_type": "code",
   "execution_count": 33,
   "metadata": {
    "collapsed": false,
    "scrolled": true
   },
   "outputs": [
    {
     "data": {
      "text/plain": [
       "\n",
       "\n",
       "Columns 0 to 12 \n",
       "    0     0     0     0     0     0     0     0     0     0     0     0     0\n",
       "    0     0     0     0     0     0     0     0     0     0     0     0     0\n",
       "    0     0     0     0     0     0     0     0     0     0     0     0     0\n",
       "    0     0     0     0     0     0     0     0     0     0     0     0     0\n",
       "    0     0     0     0     0     0     0     0     0     0     0     0     0\n",
       "    0     0     0     0     0     0     0     0     0     0     0     0     0\n",
       "    0     0     0     0     0     0     0     0     0     0     0     0     0\n",
       "    0     0     0     0     0     0     0     0     0     0     0    10    60\n",
       "    0     0     0     0     0     0     0     0     0     0     0   163   252\n",
       "    0     0     0     0     0     0     0     0     0     0    51   238   253\n",
       "    0     0     0     0     0     0     0     0     0    48   238   252   252\n",
       "    0     0     0     0     0     0     0     0    38   165   253   233   208\n",
       "    0     0     0     0     0     0     0     7   178   252   240    71    19\n",
       "    0     0     0     0     0     0     0    57   252   252    63     0     0\n",
       "    0     0     0     0     0     0     0   198   253   190     0     0     0\n",
       "    0     0     0     0     0     0    76   246   252   112     0     0     0\n",
       "    0     0     0     0     0     0    85   252   230    25     0     0     0\n",
       "    0     0     0     0     0     0    85   252   223     0     0     0     0\n",
       "    0     0     0     0     0     0    85   252   145     0     0     0     0\n",
       "    0     0     0     0     0     0    86   253   225     0     0     0     0\n",
       "    0     0     0     0     0     0    85   252   249   146    48    29    85\n",
       "    0     0     0     0     0     0    85   252   252   252   229   215   252\n",
       "    0     0     0     0     0     0    28   199   252   252   253   252   252\n",
       "    0     0     0     0     0     0     0    25   128   252   253   252   141\n",
       "    0     0     0     0     0     0     0     0     0     0     0     0     0\n",
       "    0     0     0     0     0     0     0     0     0     0     0     0     0\n",
       "    0     0     0     0     0     0     0     0     0     0     0     0     0\n",
       "    0     0     0     0     0     0     0     0     0     0     0     0     0\n",
       "\n",
       "Columns 13 to 25 \n",
       "    0     0     0     0     0     0     0     0     0     0     0     0     0\n",
       "    0     0     0     0     0     0     0     0     0     0     0     0     0\n",
       "    0     0     0     0     0     0     0     0     0     0     0     0     0\n",
       "    0     0     0     0     0     0     0     0     0     0     0     0     0\n",
       "    0     0    51   159   253   159    50     0     0     0     0     0     0\n",
       "    0    48   238   252   252   252   237     0     0     0     0     0     0\n",
       "   54   227   253   252   239   233   252    57     6     0     0     0     0\n",
       "  224   252   253   252   202    84   252   253   122     0     0     0     0\n",
       "  252   252   253   252   252    96   189   253   167     0     0     0     0\n",
       "  253   190   114   253   228    47    79   255   168     0     0     0     0\n",
       "  179    12    75   121    21     0     0   253   243    50     0     0     0\n",
       "   84     0     0     0     0     0     0   253   252   165     0     0     0\n",
       "   28     0     0     0     0     0     0   253   252   195     0     0     0\n",
       "    0     0     0     0     0     0     0   253   252   195     0     0     0\n",
       "    0     0     0     0     0     0     0   255   253   196     0     0     0\n",
       "    0     0     0     0     0     0     0   253   252   148     0     0     0\n",
       "    0     0     0     0     0     7   135   253   186    12     0     0     0\n",
       "    0     0     0     0     7   131   252   225    71     0     0     0     0\n",
       "    0     0     0    48   165   252   173     0     0     0     0     0     0\n",
       "    0     0   114   238   253   162     0     0     0     0     0     0     0\n",
       "  178   225   253   223   167    56     0     0     0     0     0     0     0\n",
       "  252   252   196   130     0     0     0     0     0     0     0     0     0\n",
       "  233   145     0     0     0     0     0     0     0     0     0     0     0\n",
       "   37     0     0     0     0     0     0     0     0     0     0     0     0\n",
       "    0     0     0     0     0     0     0     0     0     0     0     0     0\n",
       "    0     0     0     0     0     0     0     0     0     0     0     0     0\n",
       "    0     0     0     0     0     0     0     0     0     0     0     0     0\n",
       "    0     0     0     0     0     0     0     0     0     0     0     0     0\n",
       "\n",
       "Columns 26 to 27 \n",
       "    0     0\n",
       "    0     0\n",
       "    0     0\n",
       "    0     0\n",
       "    0     0\n",
       "    0     0\n",
       "    0     0\n",
       "    0     0\n",
       "    0     0\n",
       "    0     0\n",
       "    0     0\n",
       "    0     0\n",
       "    0     0\n",
       "    0     0\n",
       "    0     0\n",
       "    0     0\n",
       "    0     0\n",
       "    0     0\n",
       "    0     0\n",
       "    0     0\n",
       "    0     0\n",
       "    0     0\n",
       "    0     0\n",
       "    0     0\n",
       "    0     0\n",
       "    0     0\n",
       "    0     0\n",
       "    0     0\n",
       "[torch.ByteTensor of size 28x28]"
      ]
     },
     "execution_count": 33,
     "metadata": {},
     "output_type": "execute_result"
    }
   ],
   "source": [
    "trainset_labeled.train_data[0]"
   ]
  },
  {
   "cell_type": "code",
   "execution_count": 41,
   "metadata": {
    "collapsed": false
   },
   "outputs": [
    {
     "name": "stdout",
     "output_type": "stream",
     "text": [
      "255.0\n",
      "0.0\n"
     ]
    }
   ],
   "source": [
    "full_max = 0\n",
    "full_min = 10\n",
    "for feat in train_features:\n",
    "    cur_max = max(feat.numpy().flatten())\n",
    "    cur_min = min(feat.numpy().flatten())\n",
    "    if cur_max > full_max:\n",
    "        full_max = cur_max\n",
    "    if cur_min < full_min:\n",
    "        full_min = cur_min\n",
    "print full_max\n",
    "print full_min"
   ]
  }
 ],
 "metadata": {
  "anaconda-cloud": {},
  "kernelspec": {
   "display_name": "Python [default]",
   "language": "python",
   "name": "python2"
  },
  "language_info": {
   "codemirror_mode": {
    "name": "ipython",
    "version": 2
   },
   "file_extension": ".py",
   "mimetype": "text/x-python",
   "name": "python",
   "nbconvert_exporter": "python",
   "pygments_lexer": "ipython2",
   "version": "2.7.12"
  }
 },
 "nbformat": 4,
 "nbformat_minor": 1
}
