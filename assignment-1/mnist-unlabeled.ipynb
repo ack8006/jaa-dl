{
 "cells": [
  {
   "cell_type": "code",
   "execution_count": 1,
   "metadata": {
    "collapsed": true
   },
   "outputs": [],
   "source": [
    "from __future__ import print_function\n",
    "import pickle \n",
    "import numpy as np\n",
    "import argparse\n",
    "import torch\n",
    "import torch.nn as nn\n",
    "import torch.nn.functional as F\n",
    "import torch.optim as optim\n",
    "from torchvision import datasets, transforms\n",
    "from torch.autograd import Variable\n",
    "import matplotlib.pyplot as plt\n",
    "import torchvision\n",
    "import torchvision.transforms as transforms\n",
    "\n",
    "%matplotlib inline"
   ]
  },
  {
   "cell_type": "code",
   "execution_count": 80,
   "metadata": {
    "collapsed": false
   },
   "outputs": [],
   "source": [
    "A = np.ones((3, 4))"
   ]
  },
  {
   "cell_type": "code",
   "execution_count": 81,
   "metadata": {
    "collapsed": false
   },
   "outputs": [],
   "source": [
    "b = np.ones(4)"
   ]
  },
  {
   "cell_type": "code",
   "execution_count": 82,
   "metadata": {
    "collapsed": false
   },
   "outputs": [
    {
     "data": {
      "text/plain": [
       "array([[ 1.,  1.,  1.,  1.],\n",
       "       [ 1.,  1.,  1.,  1.],\n",
       "       [ 1.,  1.,  1.,  1.]])"
      ]
     },
     "execution_count": 82,
     "metadata": {},
     "output_type": "execute_result"
    }
   ],
   "source": [
    "A"
   ]
  },
  {
   "cell_type": "code",
   "execution_count": 83,
   "metadata": {
    "collapsed": false
   },
   "outputs": [
    {
     "data": {
      "text/plain": [
       "array([ 1.,  1.,  1.,  1.])"
      ]
     },
     "execution_count": 83,
     "metadata": {},
     "output_type": "execute_result"
    }
   ],
   "source": [
    "b"
   ]
  },
  {
   "cell_type": "code",
   "execution_count": 84,
   "metadata": {
    "collapsed": false
   },
   "outputs": [
    {
     "data": {
      "text/plain": [
       "array([[ 2.,  2.,  2.,  2.],\n",
       "       [ 2.,  2.,  2.,  2.],\n",
       "       [ 2.,  2.,  2.,  2.]])"
      ]
     },
     "execution_count": 84,
     "metadata": {},
     "output_type": "execute_result"
    }
   ],
   "source": [
    "A + b"
   ]
  },
  {
   "cell_type": "code",
   "execution_count": 78,
   "metadata": {
    "collapsed": false
   },
   "outputs": [
    {
     "ename": "RuntimeError",
     "evalue": "inconsistent tensor size at /Users/soumith/anaconda/conda-bld/pytorch-0.1.8_1486027042839/work/torch/lib/TH/generic/THTensorMath.c:601",
     "output_type": "error",
     "traceback": [
      "\u001b[0;31m---------------------------------------------------------------------------\u001b[0m",
      "\u001b[0;31mRuntimeError\u001b[0m                              Traceback (most recent call last)",
      "\u001b[0;32m<ipython-input-78-090f22a11066>\u001b[0m in \u001b[0;36m<module>\u001b[0;34m()\u001b[0m\n\u001b[0;32m----> 1\u001b[0;31m \u001b[0mA\u001b[0m \u001b[0;34m+\u001b[0m \u001b[0mb\u001b[0m\u001b[0;34m\u001b[0m\u001b[0m\n\u001b[0m",
      "\u001b[0;32m/Users/abhishekkadian/anaconda/envs/py27/lib/python2.7/site-packages/torch/tensor.pyc\u001b[0m in \u001b[0;36m__add__\u001b[0;34m(self, other)\u001b[0m\n\u001b[1;32m    395\u001b[0m     \u001b[0;31m# TODO: add tests for operators\u001b[0m\u001b[0;34m\u001b[0m\u001b[0;34m\u001b[0m\u001b[0m\n\u001b[1;32m    396\u001b[0m     \u001b[0;32mdef\u001b[0m \u001b[0m__add__\u001b[0m\u001b[0;34m(\u001b[0m\u001b[0mself\u001b[0m\u001b[0;34m,\u001b[0m \u001b[0mother\u001b[0m\u001b[0;34m)\u001b[0m\u001b[0;34m:\u001b[0m\u001b[0;34m\u001b[0m\u001b[0m\n\u001b[0;32m--> 397\u001b[0;31m         \u001b[0;32mreturn\u001b[0m \u001b[0mself\u001b[0m\u001b[0;34m.\u001b[0m\u001b[0madd\u001b[0m\u001b[0;34m(\u001b[0m\u001b[0mother\u001b[0m\u001b[0;34m)\u001b[0m\u001b[0;34m\u001b[0m\u001b[0m\n\u001b[0m\u001b[1;32m    398\u001b[0m     \u001b[0m__radd__\u001b[0m \u001b[0;34m=\u001b[0m \u001b[0m__add__\u001b[0m\u001b[0;34m\u001b[0m\u001b[0m\n\u001b[1;32m    399\u001b[0m \u001b[0;34m\u001b[0m\u001b[0m\n",
      "\u001b[0;31mRuntimeError\u001b[0m: inconsistent tensor size at /Users/soumith/anaconda/conda-bld/pytorch-0.1.8_1486027042839/work/torch/lib/TH/generic/THTensorMath.c:601"
     ]
    }
   ],
   "source": [
    "A + b"
   ]
  },
  {
   "cell_type": "markdown",
   "metadata": {},
   "source": [
    "## Load Data"
   ]
  },
  {
   "cell_type": "code",
   "execution_count": 2,
   "metadata": {
    "collapsed": true
   },
   "outputs": [],
   "source": [
    "use_cuda = False\n",
    "momentum_par = 0.5\n",
    "lr = 0.01\n",
    "log_interval = 10\n",
    "epochs = 500"
   ]
  },
  {
   "cell_type": "code",
   "execution_count": 3,
   "metadata": {
    "collapsed": true
   },
   "outputs": [],
   "source": [
    "loader_kwargs = {'num_workers': 1, 'pin_memory': True} if use_cuda else {}"
   ]
  },
  {
   "cell_type": "code",
   "execution_count": 4,
   "metadata": {
    "collapsed": false
   },
   "outputs": [
    {
     "data": {
      "text/plain": [
       "<torch._C.Generator at 0x1040b0e58>"
      ]
     },
     "execution_count": 4,
     "metadata": {},
     "output_type": "execute_result"
    }
   ],
   "source": [
    "torch.manual_seed(42)"
   ]
  },
  {
   "cell_type": "code",
   "execution_count": 5,
   "metadata": {
    "collapsed": false
   },
   "outputs": [
    {
     "name": "stdout",
     "output_type": "stream",
     "text": [
      "Files already downloaded\n",
      "3000\n",
      "750\n"
     ]
    }
   ],
   "source": [
    "trainset_labeled = pickle.load(open(\"data/train_labeled.p\", \"rb\"))"
   ]
  },
  {
   "cell_type": "code",
   "execution_count": 6,
   "metadata": {
    "collapsed": true
   },
   "outputs": [],
   "source": [
    "validset = pickle.load(open(\"data/validation.p\", \"rb\"))"
   ]
  },
  {
   "cell_type": "code",
   "execution_count": 7,
   "metadata": {
    "collapsed": false
   },
   "outputs": [],
   "source": [
    "train_loader = torch.utils.data.DataLoader(trainset_labeled, batch_size=64, shuffle=True, **loader_kwargs)\n",
    "valid_loader = torch.utils.data.DataLoader(validset, batch_size=64, shuffle=True)"
   ]
  },
  {
   "cell_type": "markdown",
   "metadata": {},
   "source": [
    "## Network"
   ]
  },
  {
   "cell_type": "code",
   "execution_count": 8,
   "metadata": {
    "collapsed": true
   },
   "outputs": [],
   "source": [
    "class Net(nn.Module):\n",
    "    def __init__(self):\n",
    "        super(Net, self).__init__()\n",
    "        self.conv1 = nn.Conv2d(1, 10, kernel_size=5)\n",
    "        self.conv2 = nn.Conv2d(10, 20, kernel_size=5)\n",
    "        self.conv2_drop = nn.Dropout2d()\n",
    "        self.fc1 = nn.Linear(320, 50)\n",
    "        self.fc2 = nn.Linear(50, 10)\n",
    "\n",
    "    def forward(self, x):\n",
    "        x = F.relu(F.max_pool2d(self.conv1(x), 2))\n",
    "        x = F.relu(F.max_pool2d(self.conv2_drop(self.conv2(x)), 2))\n",
    "        x = x.view(-1, 320)\n",
    "        x = F.relu(self.fc1(x))\n",
    "        x = F.dropout(x, training=self.training)\n",
    "        x = F.relu(self.fc2(x))\n",
    "        return F.log_softmax(x)"
   ]
  },
  {
   "cell_type": "code",
   "execution_count": 9,
   "metadata": {
    "collapsed": true
   },
   "outputs": [],
   "source": [
    "model = Net()\n",
    "\n",
    "if use_cuda:\n",
    "    model.cuda()"
   ]
  },
  {
   "cell_type": "markdown",
   "metadata": {},
   "source": [
    "## Optimizer"
   ]
  },
  {
   "cell_type": "code",
   "execution_count": 10,
   "metadata": {
    "collapsed": false
   },
   "outputs": [],
   "source": [
    "optimizer = optim.SGD(model.parameters(), lr=lr, momentum=momentum_par)"
   ]
  },
  {
   "cell_type": "markdown",
   "metadata": {},
   "source": [
    "## Training"
   ]
  },
  {
   "cell_type": "code",
   "execution_count": 11,
   "metadata": {
    "collapsed": true
   },
   "outputs": [],
   "source": [
    "def train(epoch):\n",
    "    model.train()\n",
    "    for batch_idx, (data, target) in enumerate(train_loader):\n",
    "        if use_cuda:\n",
    "            data, target = data.cuda(), target.cuda()\n",
    "        data, target = Variable(data), Variable(target)\n",
    "        optimizer.zero_grad()\n",
    "        output = model(data)\n",
    "        loss = F.nll_loss(output, target)\n",
    "        loss.backward()\n",
    "        optimizer.step()\n",
    "        if batch_idx % log_interval == 0:\n",
    "            print('Train Epoch: {} [{}/{} ({:.0f}%)]\\tLoss: {:.6f}'.format(\n",
    "                epoch, batch_idx * len(data), len(train_loader.dataset),\n",
    "                100. * batch_idx / len(train_loader), loss.data[0]))"
   ]
  },
  {
   "cell_type": "markdown",
   "metadata": {},
   "source": [
    "## Testing"
   ]
  },
  {
   "cell_type": "code",
   "execution_count": 12,
   "metadata": {
    "collapsed": true
   },
   "outputs": [],
   "source": [
    "def test(epoch, valid_loader):\n",
    "    model.eval()\n",
    "    test_loss = 0\n",
    "    correct = 0\n",
    "    for data, target in valid_loader:\n",
    "        if use_cuda:\n",
    "            data, target = data.cuda(), target.cuda()\n",
    "        data, target = Variable(data, volatile=True), Variable(target)\n",
    "        output = model(data)\n",
    "        test_loss += F.nll_loss(output, target).data[0]\n",
    "        pred = output.data.max(1)[1] # get the index of the max log-probability\n",
    "        correct += pred.eq(target.data).cpu().sum()\n",
    "\n",
    "    test_loss /= len(valid_loader) # loss function already averages over batch size\n",
    "    print('\\nTest set: Average loss: {:.4f}, Accuracy: {}/{} ({:.0f}%)\\n'.format(\n",
    "        test_loss, correct, len(valid_loader.dataset),\n",
    "        100. * correct / len(valid_loader.dataset)))"
   ]
  },
  {
   "cell_type": "code",
   "execution_count": 13,
   "metadata": {
    "collapsed": false
   },
   "outputs": [
    {
     "name": "stdout",
     "output_type": "stream",
     "text": [
      "Train Epoch: 1 [0/3000 (0%)]\tLoss: 2.299089\n",
      "Train Epoch: 1 [640/3000 (21%)]\tLoss: 2.287868\n",
      "Train Epoch: 1 [1280/3000 (43%)]\tLoss: 2.297804\n",
      "Train Epoch: 1 [1920/3000 (64%)]\tLoss: 2.294657\n",
      "Train Epoch: 1 [2560/3000 (85%)]\tLoss: 2.312828\n",
      "\n",
      "Test set: Average loss: 2.2745, Accuracy: 2731/10000 (27%)\n",
      "\n",
      "Train Epoch: 2 [0/3000 (0%)]\tLoss: 2.295248\n",
      "Train Epoch: 2 [640/3000 (21%)]\tLoss: 2.292928\n",
      "Train Epoch: 2 [1280/3000 (43%)]\tLoss: 2.273643\n",
      "Train Epoch: 2 [1920/3000 (64%)]\tLoss: 2.223941\n",
      "Train Epoch: 2 [2560/3000 (85%)]\tLoss: 2.260562\n",
      "\n",
      "Test set: Average loss: 2.2152, Accuracy: 3900/10000 (39%)\n",
      "\n",
      "Train Epoch: 3 [0/3000 (0%)]\tLoss: 2.230175\n",
      "Train Epoch: 3 [640/3000 (21%)]\tLoss: 2.228118\n",
      "Train Epoch: 3 [1280/3000 (43%)]\tLoss: 2.249061\n",
      "Train Epoch: 3 [1920/3000 (64%)]\tLoss: 2.250877\n",
      "Train Epoch: 3 [2560/3000 (85%)]\tLoss: 2.228348\n",
      "\n",
      "Test set: Average loss: 2.0300, Accuracy: 4676/10000 (47%)\n",
      "\n",
      "Train Epoch: 4 [0/3000 (0%)]\tLoss: 2.055495\n",
      "Train Epoch: 4 [640/3000 (21%)]\tLoss: 2.049053\n",
      "Train Epoch: 4 [1280/3000 (43%)]\tLoss: 2.107830\n",
      "Train Epoch: 4 [1920/3000 (64%)]\tLoss: 1.912523\n",
      "Train Epoch: 4 [2560/3000 (85%)]\tLoss: 1.749580\n",
      "\n",
      "Test set: Average loss: 1.5252, Accuracy: 6254/10000 (63%)\n",
      "\n",
      "Train Epoch: 5 [0/3000 (0%)]\tLoss: 1.891008\n",
      "Train Epoch: 5 [640/3000 (21%)]\tLoss: 1.608718\n",
      "Train Epoch: 5 [1280/3000 (43%)]\tLoss: 1.442615\n",
      "Train Epoch: 5 [1920/3000 (64%)]\tLoss: 1.685202\n",
      "Train Epoch: 5 [2560/3000 (85%)]\tLoss: 1.280703\n",
      "\n",
      "Test set: Average loss: 1.1116, Accuracy: 6860/10000 (69%)\n",
      "\n",
      "Train Epoch: 6 [0/3000 (0%)]\tLoss: 1.532231\n",
      "Train Epoch: 6 [640/3000 (21%)]\tLoss: 1.350541\n",
      "Train Epoch: 6 [1280/3000 (43%)]\tLoss: 1.198667\n",
      "Train Epoch: 6 [1920/3000 (64%)]\tLoss: 1.180934\n",
      "Train Epoch: 6 [2560/3000 (85%)]\tLoss: 1.015192\n",
      "\n",
      "Test set: Average loss: 0.7582, Accuracy: 8227/10000 (82%)\n",
      "\n",
      "Train Epoch: 7 [0/3000 (0%)]\tLoss: 1.067891\n",
      "Train Epoch: 7 [640/3000 (21%)]\tLoss: 1.021399\n",
      "Train Epoch: 7 [1280/3000 (43%)]\tLoss: 1.077716\n",
      "Train Epoch: 7 [1920/3000 (64%)]\tLoss: 0.953008\n",
      "Train Epoch: 7 [2560/3000 (85%)]\tLoss: 0.862806\n",
      "\n",
      "Test set: Average loss: 0.5707, Accuracy: 8548/10000 (85%)\n",
      "\n",
      "Train Epoch: 8 [0/3000 (0%)]\tLoss: 0.811297\n",
      "Train Epoch: 8 [640/3000 (21%)]\tLoss: 0.836717\n",
      "Train Epoch: 8 [1280/3000 (43%)]\tLoss: 0.991145\n",
      "Train Epoch: 8 [1920/3000 (64%)]\tLoss: 0.826507\n",
      "Train Epoch: 8 [2560/3000 (85%)]\tLoss: 0.742558\n",
      "\n",
      "Test set: Average loss: 0.4746, Accuracy: 8743/10000 (87%)\n",
      "\n",
      "Train Epoch: 9 [0/3000 (0%)]\tLoss: 0.931103\n",
      "Train Epoch: 9 [640/3000 (21%)]\tLoss: 0.953969\n",
      "Train Epoch: 9 [1280/3000 (43%)]\tLoss: 0.624165\n",
      "Train Epoch: 9 [1920/3000 (64%)]\tLoss: 0.841652\n",
      "Train Epoch: 9 [2560/3000 (85%)]\tLoss: 0.693740\n",
      "\n",
      "Test set: Average loss: 0.4359, Accuracy: 8882/10000 (89%)\n",
      "\n",
      "Train Epoch: 10 [0/3000 (0%)]\tLoss: 0.916033\n",
      "Train Epoch: 10 [640/3000 (21%)]\tLoss: 0.781790\n",
      "Train Epoch: 10 [1280/3000 (43%)]\tLoss: 0.578069\n",
      "Train Epoch: 10 [1920/3000 (64%)]\tLoss: 0.939331\n",
      "Train Epoch: 10 [2560/3000 (85%)]\tLoss: 0.684393\n",
      "\n",
      "Test set: Average loss: 0.3795, Accuracy: 8985/10000 (90%)\n",
      "\n",
      "Train Epoch: 11 [0/3000 (0%)]\tLoss: 0.643175\n",
      "Train Epoch: 11 [640/3000 (21%)]\tLoss: 0.693560\n",
      "Train Epoch: 11 [1280/3000 (43%)]\tLoss: 0.486610\n",
      "Train Epoch: 11 [1920/3000 (64%)]\tLoss: 0.671655\n",
      "Train Epoch: 11 [2560/3000 (85%)]\tLoss: 0.592080\n",
      "\n",
      "Test set: Average loss: 0.3406, Accuracy: 9063/10000 (91%)\n",
      "\n",
      "Train Epoch: 12 [0/3000 (0%)]\tLoss: 0.508250\n",
      "Train Epoch: 12 [640/3000 (21%)]\tLoss: 0.753472\n",
      "Train Epoch: 12 [1280/3000 (43%)]\tLoss: 0.945878\n",
      "Train Epoch: 12 [1920/3000 (64%)]\tLoss: 0.349038\n",
      "Train Epoch: 12 [2560/3000 (85%)]\tLoss: 0.624938\n",
      "\n",
      "Test set: Average loss: 0.3276, Accuracy: 9059/10000 (91%)\n",
      "\n",
      "Train Epoch: 13 [0/3000 (0%)]\tLoss: 0.620390\n",
      "Train Epoch: 13 [640/3000 (21%)]\tLoss: 1.008023\n",
      "Train Epoch: 13 [1280/3000 (43%)]\tLoss: 0.569733\n",
      "Train Epoch: 13 [1920/3000 (64%)]\tLoss: 0.497160\n",
      "Train Epoch: 13 [2560/3000 (85%)]\tLoss: 0.655159\n",
      "\n",
      "Test set: Average loss: 0.3037, Accuracy: 9159/10000 (92%)\n",
      "\n",
      "Train Epoch: 14 [0/3000 (0%)]\tLoss: 0.432013\n",
      "Train Epoch: 14 [640/3000 (21%)]\tLoss: 0.446500\n",
      "Train Epoch: 14 [1280/3000 (43%)]\tLoss: 0.608804\n",
      "Train Epoch: 14 [1920/3000 (64%)]\tLoss: 0.420387\n",
      "Train Epoch: 14 [2560/3000 (85%)]\tLoss: 0.557223\n",
      "\n",
      "Test set: Average loss: 0.3110, Accuracy: 9141/10000 (91%)\n",
      "\n",
      "Train Epoch: 15 [0/3000 (0%)]\tLoss: 0.485885\n",
      "Train Epoch: 15 [640/3000 (21%)]\tLoss: 0.492967\n",
      "Train Epoch: 15 [1280/3000 (43%)]\tLoss: 0.572001\n",
      "Train Epoch: 15 [1920/3000 (64%)]\tLoss: 0.408054\n",
      "Train Epoch: 15 [2560/3000 (85%)]\tLoss: 0.603293\n",
      "\n",
      "Test set: Average loss: 0.2898, Accuracy: 9171/10000 (92%)\n",
      "\n",
      "Train Epoch: 16 [0/3000 (0%)]\tLoss: 0.596510\n",
      "Train Epoch: 16 [640/3000 (21%)]\tLoss: 0.474084\n",
      "Train Epoch: 16 [1280/3000 (43%)]\tLoss: 0.793442\n",
      "Train Epoch: 16 [1920/3000 (64%)]\tLoss: 0.472843\n",
      "Train Epoch: 16 [2560/3000 (85%)]\tLoss: 0.293028\n",
      "\n",
      "Test set: Average loss: 0.2806, Accuracy: 9242/10000 (92%)\n",
      "\n",
      "Train Epoch: 17 [0/3000 (0%)]\tLoss: 0.496492\n",
      "Train Epoch: 17 [640/3000 (21%)]\tLoss: 0.511772\n",
      "Train Epoch: 17 [1280/3000 (43%)]\tLoss: 0.440429\n",
      "Train Epoch: 17 [1920/3000 (64%)]\tLoss: 0.631299\n",
      "Train Epoch: 17 [2560/3000 (85%)]\tLoss: 0.600695\n",
      "\n",
      "Test set: Average loss: 0.2634, Accuracy: 9232/10000 (92%)\n",
      "\n",
      "Train Epoch: 18 [0/3000 (0%)]\tLoss: 0.335789\n",
      "Train Epoch: 18 [640/3000 (21%)]\tLoss: 0.650051\n",
      "Train Epoch: 18 [1280/3000 (43%)]\tLoss: 0.489162\n",
      "Train Epoch: 18 [1920/3000 (64%)]\tLoss: 0.601467\n",
      "Train Epoch: 18 [2560/3000 (85%)]\tLoss: 0.477103\n",
      "\n",
      "Test set: Average loss: 0.2484, Accuracy: 9283/10000 (93%)\n",
      "\n",
      "Train Epoch: 19 [0/3000 (0%)]\tLoss: 0.318559\n",
      "Train Epoch: 19 [640/3000 (21%)]\tLoss: 0.290992\n",
      "Train Epoch: 19 [1280/3000 (43%)]\tLoss: 0.622609\n",
      "Train Epoch: 19 [1920/3000 (64%)]\tLoss: 0.370836\n",
      "Train Epoch: 19 [2560/3000 (85%)]\tLoss: 0.390075\n",
      "\n",
      "Test set: Average loss: 0.2598, Accuracy: 9225/10000 (92%)\n",
      "\n",
      "Train Epoch: 20 [0/3000 (0%)]\tLoss: 0.501569\n",
      "Train Epoch: 20 [640/3000 (21%)]\tLoss: 0.298090\n",
      "Train Epoch: 20 [1280/3000 (43%)]\tLoss: 0.459261\n",
      "Train Epoch: 20 [1920/3000 (64%)]\tLoss: 0.473935\n",
      "Train Epoch: 20 [2560/3000 (85%)]\tLoss: 0.216143\n",
      "\n",
      "Test set: Average loss: 0.2401, Accuracy: 9306/10000 (93%)\n",
      "\n",
      "Train Epoch: 21 [0/3000 (0%)]\tLoss: 0.354947\n",
      "Train Epoch: 21 [640/3000 (21%)]\tLoss: 0.442521\n",
      "Train Epoch: 21 [1280/3000 (43%)]\tLoss: 0.497173\n",
      "Train Epoch: 21 [1920/3000 (64%)]\tLoss: 0.598709\n",
      "Train Epoch: 21 [2560/3000 (85%)]\tLoss: 0.454156\n",
      "\n",
      "Test set: Average loss: 0.2269, Accuracy: 9355/10000 (94%)\n",
      "\n",
      "Train Epoch: 22 [0/3000 (0%)]\tLoss: 0.435476\n",
      "Train Epoch: 22 [640/3000 (21%)]\tLoss: 0.350050\n",
      "Train Epoch: 22 [1280/3000 (43%)]\tLoss: 0.354537\n",
      "Train Epoch: 22 [1920/3000 (64%)]\tLoss: 0.431475\n",
      "Train Epoch: 22 [2560/3000 (85%)]\tLoss: 0.383385\n",
      "\n",
      "Test set: Average loss: 0.2275, Accuracy: 9311/10000 (93%)\n",
      "\n",
      "Train Epoch: 23 [0/3000 (0%)]\tLoss: 0.461237\n",
      "Train Epoch: 23 [640/3000 (21%)]\tLoss: 0.358045\n",
      "Train Epoch: 23 [1280/3000 (43%)]\tLoss: 0.516747\n",
      "Train Epoch: 23 [1920/3000 (64%)]\tLoss: 0.651740\n",
      "Train Epoch: 23 [2560/3000 (85%)]\tLoss: 0.367094\n",
      "\n",
      "Test set: Average loss: 0.2258, Accuracy: 9339/10000 (93%)\n",
      "\n",
      "Train Epoch: 24 [0/3000 (0%)]\tLoss: 0.438994\n",
      "Train Epoch: 24 [640/3000 (21%)]\tLoss: 0.393352\n",
      "Train Epoch: 24 [1280/3000 (43%)]\tLoss: 0.327232\n",
      "Train Epoch: 24 [1920/3000 (64%)]\tLoss: 0.595375\n",
      "Train Epoch: 24 [2560/3000 (85%)]\tLoss: 0.639806\n",
      "\n",
      "Test set: Average loss: 0.2167, Accuracy: 9376/10000 (94%)\n",
      "\n",
      "Train Epoch: 25 [0/3000 (0%)]\tLoss: 0.405415\n",
      "Train Epoch: 25 [640/3000 (21%)]\tLoss: 0.557187\n",
      "Train Epoch: 25 [1280/3000 (43%)]\tLoss: 0.331344\n",
      "Train Epoch: 25 [1920/3000 (64%)]\tLoss: 0.448706\n",
      "Train Epoch: 25 [2560/3000 (85%)]\tLoss: 0.612010\n",
      "\n",
      "Test set: Average loss: 0.2154, Accuracy: 9343/10000 (93%)\n",
      "\n",
      "Train Epoch: 26 [0/3000 (0%)]\tLoss: 0.366465\n",
      "Train Epoch: 26 [640/3000 (21%)]\tLoss: 0.190277\n",
      "Train Epoch: 26 [1280/3000 (43%)]\tLoss: 0.493690\n",
      "Train Epoch: 26 [1920/3000 (64%)]\tLoss: 0.370293\n",
      "Train Epoch: 26 [2560/3000 (85%)]\tLoss: 0.432301\n",
      "\n",
      "Test set: Average loss: 0.2081, Accuracy: 9387/10000 (94%)\n",
      "\n",
      "Train Epoch: 27 [0/3000 (0%)]\tLoss: 0.283261\n",
      "Train Epoch: 27 [640/3000 (21%)]\tLoss: 0.364902\n"
     ]
    },
    {
     "ename": "KeyboardInterrupt",
     "evalue": "",
     "output_type": "error",
     "traceback": [
      "\u001b[0;31m---------------------------------------------------------------------------\u001b[0m",
      "\u001b[0;31mKeyboardInterrupt\u001b[0m                         Traceback (most recent call last)",
      "\u001b[0;32m<ipython-input-13-06793d768fe7>\u001b[0m in \u001b[0;36m<module>\u001b[0;34m()\u001b[0m\n\u001b[1;32m      1\u001b[0m \u001b[0;32mfor\u001b[0m \u001b[0mepoch\u001b[0m \u001b[0;32min\u001b[0m \u001b[0mrange\u001b[0m\u001b[0;34m(\u001b[0m\u001b[0;36m1\u001b[0m\u001b[0;34m,\u001b[0m \u001b[0mepochs\u001b[0m \u001b[0;34m+\u001b[0m \u001b[0;36m1\u001b[0m\u001b[0;34m)\u001b[0m\u001b[0;34m:\u001b[0m\u001b[0;34m\u001b[0m\u001b[0m\n\u001b[0;32m----> 2\u001b[0;31m     \u001b[0mtrain\u001b[0m\u001b[0;34m(\u001b[0m\u001b[0mepoch\u001b[0m\u001b[0;34m)\u001b[0m\u001b[0;34m\u001b[0m\u001b[0m\n\u001b[0m\u001b[1;32m      3\u001b[0m     \u001b[0mtest\u001b[0m\u001b[0;34m(\u001b[0m\u001b[0mepoch\u001b[0m\u001b[0;34m,\u001b[0m \u001b[0mvalid_loader\u001b[0m\u001b[0;34m)\u001b[0m\u001b[0;34m\u001b[0m\u001b[0m\n",
      "\u001b[0;32m<ipython-input-11-e27d239bf004>\u001b[0m in \u001b[0;36mtrain\u001b[0;34m(epoch)\u001b[0m\n\u001b[1;32m      8\u001b[0m         \u001b[0moutput\u001b[0m \u001b[0;34m=\u001b[0m \u001b[0mmodel\u001b[0m\u001b[0;34m(\u001b[0m\u001b[0mdata\u001b[0m\u001b[0;34m)\u001b[0m\u001b[0;34m\u001b[0m\u001b[0m\n\u001b[1;32m      9\u001b[0m         \u001b[0mloss\u001b[0m \u001b[0;34m=\u001b[0m \u001b[0mF\u001b[0m\u001b[0;34m.\u001b[0m\u001b[0mnll_loss\u001b[0m\u001b[0;34m(\u001b[0m\u001b[0moutput\u001b[0m\u001b[0;34m,\u001b[0m \u001b[0mtarget\u001b[0m\u001b[0;34m)\u001b[0m\u001b[0;34m\u001b[0m\u001b[0m\n\u001b[0;32m---> 10\u001b[0;31m         \u001b[0mloss\u001b[0m\u001b[0;34m.\u001b[0m\u001b[0mbackward\u001b[0m\u001b[0;34m(\u001b[0m\u001b[0;34m)\u001b[0m\u001b[0;34m\u001b[0m\u001b[0m\n\u001b[0m\u001b[1;32m     11\u001b[0m         \u001b[0moptimizer\u001b[0m\u001b[0;34m.\u001b[0m\u001b[0mstep\u001b[0m\u001b[0;34m(\u001b[0m\u001b[0;34m)\u001b[0m\u001b[0;34m\u001b[0m\u001b[0m\n\u001b[1;32m     12\u001b[0m         \u001b[0;32mif\u001b[0m \u001b[0mbatch_idx\u001b[0m \u001b[0;34m%\u001b[0m \u001b[0mlog_interval\u001b[0m \u001b[0;34m==\u001b[0m \u001b[0;36m0\u001b[0m\u001b[0;34m:\u001b[0m\u001b[0;34m\u001b[0m\u001b[0m\n",
      "\u001b[0;32m/Users/abhishekkadian/anaconda/envs/py27/lib/python2.7/site-packages/torch/autograd/variable.pyc\u001b[0m in \u001b[0;36mbackward\u001b[0;34m(self, gradient, retain_variables)\u001b[0m\n\u001b[1;32m    156\u001b[0m                     'or with gradient w.r.t. the variable')\n\u001b[1;32m    157\u001b[0m             \u001b[0mgradient\u001b[0m \u001b[0;34m=\u001b[0m \u001b[0mself\u001b[0m\u001b[0;34m.\u001b[0m\u001b[0mdata\u001b[0m\u001b[0;34m.\u001b[0m\u001b[0mnew\u001b[0m\u001b[0;34m(\u001b[0m\u001b[0;34m)\u001b[0m\u001b[0;34m.\u001b[0m\u001b[0mresize_as_\u001b[0m\u001b[0;34m(\u001b[0m\u001b[0mself\u001b[0m\u001b[0;34m.\u001b[0m\u001b[0mdata\u001b[0m\u001b[0;34m)\u001b[0m\u001b[0;34m.\u001b[0m\u001b[0mfill_\u001b[0m\u001b[0;34m(\u001b[0m\u001b[0;36m1\u001b[0m\u001b[0;34m)\u001b[0m\u001b[0;34m\u001b[0m\u001b[0m\n\u001b[0;32m--> 158\u001b[0;31m         \u001b[0mself\u001b[0m\u001b[0;34m.\u001b[0m\u001b[0m_execution_engine\u001b[0m\u001b[0;34m.\u001b[0m\u001b[0mrun_backward\u001b[0m\u001b[0;34m(\u001b[0m\u001b[0;34m(\u001b[0m\u001b[0mself\u001b[0m\u001b[0;34m,\u001b[0m\u001b[0;34m)\u001b[0m\u001b[0;34m,\u001b[0m \u001b[0;34m(\u001b[0m\u001b[0mgradient\u001b[0m\u001b[0;34m,\u001b[0m\u001b[0;34m)\u001b[0m\u001b[0;34m,\u001b[0m \u001b[0mretain_variables\u001b[0m\u001b[0;34m)\u001b[0m\u001b[0;34m\u001b[0m\u001b[0m\n\u001b[0m\u001b[1;32m    159\u001b[0m \u001b[0;34m\u001b[0m\u001b[0m\n\u001b[1;32m    160\u001b[0m     \u001b[0;32mdef\u001b[0m \u001b[0mregister_hook\u001b[0m\u001b[0;34m(\u001b[0m\u001b[0mself\u001b[0m\u001b[0;34m,\u001b[0m \u001b[0mhook\u001b[0m\u001b[0;34m)\u001b[0m\u001b[0;34m:\u001b[0m\u001b[0;34m\u001b[0m\u001b[0m\n",
      "\u001b[0;32m/Users/abhishekkadian/anaconda/envs/py27/lib/python2.7/site-packages/torch/nn/_functions/conv.pyc\u001b[0m in \u001b[0;36mbackward\u001b[0;34m(self, grad_output)\u001b[0m\n\u001b[1;32m     46\u001b[0m         grad_weight, grad_bias = (\n\u001b[1;32m     47\u001b[0m             \u001b[0mself\u001b[0m\u001b[0;34m.\u001b[0m\u001b[0m_grad_params\u001b[0m\u001b[0;34m(\u001b[0m\u001b[0minput\u001b[0m\u001b[0;34m,\u001b[0m \u001b[0mweight\u001b[0m\u001b[0;34m,\u001b[0m \u001b[0mbias\u001b[0m\u001b[0;34m,\u001b[0m \u001b[0mgrad_output\u001b[0m\u001b[0;34m)\u001b[0m\u001b[0;34m\u001b[0m\u001b[0m\n\u001b[0;32m---> 48\u001b[0;31m             if any(self.needs_input_grad[1:]) else (None, None))\n\u001b[0m\u001b[1;32m     49\u001b[0m         \u001b[0;32mif\u001b[0m \u001b[0mk\u001b[0m \u001b[0;34m==\u001b[0m \u001b[0;36m3\u001b[0m\u001b[0;34m:\u001b[0m\u001b[0;34m\u001b[0m\u001b[0m\n\u001b[1;32m     50\u001b[0m             \u001b[0mgrad_input\u001b[0m\u001b[0;34m,\u001b[0m \u001b[0mgrad_weight\u001b[0m\u001b[0;34m,\u001b[0m \u001b[0;34m=\u001b[0m \u001b[0m_view3d\u001b[0m\u001b[0;34m(\u001b[0m\u001b[0mgrad_input\u001b[0m\u001b[0;34m,\u001b[0m \u001b[0mgrad_weight\u001b[0m\u001b[0;34m)\u001b[0m\u001b[0;34m\u001b[0m\u001b[0m\n",
      "\u001b[0;32m/Users/abhishekkadian/anaconda/envs/py27/lib/python2.7/site-packages/torch/nn/_functions/conv.pyc\u001b[0m in \u001b[0;36m_grad_params\u001b[0;34m(self, input, weight, bias, grad_output)\u001b[0m\n\u001b[1;32m    124\u001b[0m             \u001b[0;32mreturn\u001b[0m \u001b[0mgrad_weight\u001b[0m\u001b[0;34m,\u001b[0m \u001b[0mgrad_bias\u001b[0m\u001b[0;34m\u001b[0m\u001b[0m\n\u001b[1;32m    125\u001b[0m \u001b[0;34m\u001b[0m\u001b[0m\n\u001b[0;32m--> 126\u001b[0;31m         \u001b[0;32mreturn\u001b[0m \u001b[0mself\u001b[0m\u001b[0;34m.\u001b[0m\u001b[0m_thnn\u001b[0m\u001b[0;34m(\u001b[0m\u001b[0;34m'grad_params'\u001b[0m\u001b[0;34m,\u001b[0m \u001b[0minput\u001b[0m\u001b[0;34m,\u001b[0m \u001b[0mweight\u001b[0m\u001b[0;34m,\u001b[0m \u001b[0mbias\u001b[0m\u001b[0;34m,\u001b[0m \u001b[0mgrad_output\u001b[0m\u001b[0;34m)\u001b[0m\u001b[0;34m\u001b[0m\u001b[0m\n\u001b[0m\u001b[1;32m    127\u001b[0m \u001b[0;34m\u001b[0m\u001b[0m\n\u001b[1;32m    128\u001b[0m     \u001b[0;32mdef\u001b[0m \u001b[0mthnn_class_name\u001b[0m\u001b[0;34m(\u001b[0m\u001b[0mself\u001b[0m\u001b[0;34m,\u001b[0m \u001b[0minput\u001b[0m\u001b[0;34m)\u001b[0m\u001b[0;34m:\u001b[0m\u001b[0;34m\u001b[0m\u001b[0m\n",
      "\u001b[0;32m/Users/abhishekkadian/anaconda/envs/py27/lib/python2.7/site-packages/torch/nn/_functions/conv.pyc\u001b[0m in \u001b[0;36m_thnn\u001b[0;34m(self, fn_name, input, weight, *args)\u001b[0m\n\u001b[1;32m    148\u001b[0m         \u001b[0mimpl\u001b[0m \u001b[0;34m=\u001b[0m \u001b[0m_thnn_convs\u001b[0m\u001b[0;34m[\u001b[0m\u001b[0mself\u001b[0m\u001b[0;34m.\u001b[0m\u001b[0mthnn_class_name\u001b[0m\u001b[0;34m(\u001b[0m\u001b[0minput\u001b[0m\u001b[0;34m)\u001b[0m\u001b[0;34m]\u001b[0m\u001b[0;34m\u001b[0m\u001b[0m\n\u001b[1;32m    149\u001b[0m         \u001b[0;32mif\u001b[0m \u001b[0mself\u001b[0m\u001b[0;34m.\u001b[0m\u001b[0mgroups\u001b[0m \u001b[0;34m==\u001b[0m \u001b[0;36m1\u001b[0m\u001b[0;34m:\u001b[0m\u001b[0;34m\u001b[0m\u001b[0m\n\u001b[0;32m--> 150\u001b[0;31m             \u001b[0;32mreturn\u001b[0m \u001b[0mimpl\u001b[0m\u001b[0;34m[\u001b[0m\u001b[0mfn_name\u001b[0m\u001b[0;34m]\u001b[0m\u001b[0;34m(\u001b[0m\u001b[0mself\u001b[0m\u001b[0;34m,\u001b[0m \u001b[0mself\u001b[0m\u001b[0;34m.\u001b[0m\u001b[0m_bufs\u001b[0m\u001b[0;34m[\u001b[0m\u001b[0;36m0\u001b[0m\u001b[0;34m]\u001b[0m\u001b[0;34m,\u001b[0m \u001b[0minput\u001b[0m\u001b[0;34m,\u001b[0m \u001b[0mweight\u001b[0m\u001b[0;34m,\u001b[0m \u001b[0;34m*\u001b[0m\u001b[0margs\u001b[0m\u001b[0;34m)\u001b[0m\u001b[0;34m\u001b[0m\u001b[0m\n\u001b[0m\u001b[1;32m    151\u001b[0m         \u001b[0;32melse\u001b[0m\u001b[0;34m:\u001b[0m\u001b[0;34m\u001b[0m\u001b[0m\n\u001b[1;32m    152\u001b[0m             \u001b[0mres\u001b[0m \u001b[0;34m=\u001b[0m \u001b[0;34m[\u001b[0m\u001b[0;34m]\u001b[0m\u001b[0;34m\u001b[0m\u001b[0m\n",
      "\u001b[0;32m/Users/abhishekkadian/anaconda/envs/py27/lib/python2.7/site-packages/torch/nn/_functions/conv.pyc\u001b[0m in \u001b[0;36mcall_grad_params\u001b[0;34m(self, bufs, input, weight, bias, grad_output)\u001b[0m\n\u001b[1;32m    253\u001b[0m         \u001b[0margs\u001b[0m \u001b[0;34m=\u001b[0m \u001b[0mparse_arguments\u001b[0m\u001b[0;34m(\u001b[0m\u001b[0mself\u001b[0m\u001b[0;34m,\u001b[0m \u001b[0mfn\u001b[0m\u001b[0;34m.\u001b[0m\u001b[0marguments\u001b[0m\u001b[0;34m[\u001b[0m\u001b[0;36m5\u001b[0m\u001b[0;34m:\u001b[0m\u001b[0;34m]\u001b[0m\u001b[0;34m,\u001b[0m \u001b[0mbufs\u001b[0m\u001b[0;34m,\u001b[0m \u001b[0mkernel_size\u001b[0m\u001b[0;34m)\u001b[0m\u001b[0;34m\u001b[0m\u001b[0m\n\u001b[1;32m    254\u001b[0m         getattr(backend, fn.name)(backend.library_state, input, grad_output,\n\u001b[0;32m--> 255\u001b[0;31m                                   grad_weight, grad_bias, *args)\n\u001b[0m\u001b[1;32m    256\u001b[0m         \u001b[0;32mreturn\u001b[0m \u001b[0mgrad_weight\u001b[0m\u001b[0;34m,\u001b[0m \u001b[0mgrad_bias\u001b[0m\u001b[0;34m\u001b[0m\u001b[0m\n\u001b[1;32m    257\u001b[0m     \u001b[0;32mreturn\u001b[0m \u001b[0mcall_grad_params\u001b[0m\u001b[0;34m\u001b[0m\u001b[0m\n",
      "\u001b[0;31mKeyboardInterrupt\u001b[0m: "
     ]
    }
   ],
   "source": [
    "for epoch in range(1, epochs + 1):\n",
    "    train(epoch)\n",
    "    test(epoch, valid_loader)"
   ]
  },
  {
   "cell_type": "markdown",
   "metadata": {},
   "source": [
    "## Analyzing predictions"
   ]
  },
  {
   "cell_type": "code",
   "execution_count": 15,
   "metadata": {
    "collapsed": true
   },
   "outputs": [],
   "source": [
    "model.eval()\n",
    "test_loss = 0\n",
    "correct = 0\n",
    "for data, target in valid_loader:\n",
    "    if use_cuda:\n",
    "        data, target = data.cuda(), target.cuda()\n",
    "    data, target = Variable(data, volatile=True), Variable(target)\n",
    "    output = model(data)\n",
    "    test_loss += F.nll_loss(output, target).data[0]\n",
    "    pred = output.data.max(1)[1] # get the index of the max log-probability\n",
    "    correct += pred.eq(target.data).cpu().sum()"
   ]
  },
  {
   "cell_type": "code",
   "execution_count": 16,
   "metadata": {
    "collapsed": true
   },
   "outputs": [],
   "source": [
    "test_loss /= len(valid_loader) # loss function already averages over batch size"
   ]
  },
  {
   "cell_type": "code",
   "execution_count": 17,
   "metadata": {
    "collapsed": false
   },
   "outputs": [
    {
     "name": "stdout",
     "output_type": "stream",
     "text": [
      "\n",
      "Test set: Average loss: 0.1939, Accuracy: 9438/10000 (94%)\n",
      "\n"
     ]
    }
   ],
   "source": [
    "print('\\nTest set: Average loss: {:.4f}, Accuracy: {}/{} ({:.0f}%)\\n'.format(\n",
    "        test_loss, correct, len(valid_loader.dataset),\n",
    "        100. * correct / len(valid_loader.dataset)))"
   ]
  },
  {
   "cell_type": "code",
   "execution_count": 18,
   "metadata": {
    "collapsed": false
   },
   "outputs": [
    {
     "data": {
      "text/plain": [
       "9438"
      ]
     },
     "execution_count": 18,
     "metadata": {},
     "output_type": "execute_result"
    }
   ],
   "source": [
    "correct"
   ]
  },
  {
   "cell_type": "code",
   "execution_count": 20,
   "metadata": {
    "collapsed": false
   },
   "outputs": [
    {
     "data": {
      "text/plain": [
       "562"
      ]
     },
     "execution_count": 20,
     "metadata": {},
     "output_type": "execute_result"
    }
   ],
   "source": [
    "len(valid_loader.dataset) - correct"
   ]
  },
  {
   "cell_type": "markdown",
   "metadata": {},
   "source": [
    "## Code for visualizing incorrectly classified images"
   ]
  },
  {
   "cell_type": "code",
   "execution_count": 184,
   "metadata": {
    "collapsed": false
   },
   "outputs": [],
   "source": [
    "model.eval()\n",
    "test_loss = 0\n",
    "correct = 0\n",
    "\n",
    "i = 0\n",
    "i_limit = 1\n",
    "\n",
    "# Pixel information for incorrectly classified images\n",
    "incorrect_pixels = []\n",
    "# Predictions made by network for incorrectly classified images\n",
    "incorrect_preds = []\n",
    "# Actual labels for incorrectly classified images\n",
    "incorrect_outputs = []\n",
    "\n",
    "for data, target in valid_loader:\n",
    "    if i == i_limit:\n",
    "        break\n",
    "    i += 1\n",
    "    if use_cuda:\n",
    "        data, target = data.cuda(), target.cuda()\n",
    "    data, target = Variable(data, volatile=True), Variable(target)\n",
    "    output = model(data)\n",
    "    test_loss += F.nll_loss(output, target).data[0]\n",
    "    \n",
    "    pred = output.data.max(1)[1] # get the index of the max log-probability\n",
    "    mask = (pred != target.data)\n",
    "    incorrect_preds += list(pred[mask])\n",
    "    incorrect_outputs += list(target.data[mask].numpy())\n",
    "    incorrect_pixels += list(data.data.numpy()[target.data[mask].numpy()])\n",
    "    correct += pred.eq(target.data).cpu().sum()\n",
    "    \n",
    "incorrect_pixels = [torch.FloatTensor(x) for x in incorrect_pixels]"
   ]
  },
  {
   "cell_type": "code",
   "execution_count": 185,
   "metadata": {
    "collapsed": true
   },
   "outputs": [],
   "source": [
    "def imshow(img):\n",
    "    if type(img) == torch.FloatTensor:\n",
    "        npimg = img.numpy()\n",
    "    else:\n",
    "        npimg = img\n",
    "    plt.imshow(np.transpose(npimg, (1, 2, 0))[:,:,0], \n",
    "               cmap='gray')"
   ]
  },
  {
   "cell_type": "code",
   "execution_count": 186,
   "metadata": {
    "collapsed": false
   },
   "outputs": [
    {
     "name": "stdout",
     "output_type": "stream",
     "text": [
      "Images\n"
     ]
    },
    {
     "data": {
      "image/png": "[encoded data removed]",
      "text/plain": [
       "<matplotlib.figure.Figure at 0x111680b10>"
      ]
     },
     "metadata": {},
     "output_type": "display_data"
    }
   ],
   "source": [
    "print(\"Images\")\n",
    "imshow(torchvision.utils.make_grid(incorrect_pixels))"
   ]
  },
  {
   "cell_type": "code",
   "execution_count": 187,
   "metadata": {
    "collapsed": false
   },
   "outputs": [
    {
     "name": "stdout",
     "output_type": "stream",
     "text": [
      "Predicted labels: [4, 4, 1, 7, 2, 5, 6, 7]\n"
     ]
    }
   ],
   "source": [
    "print(\"Predicted labels:\", incorrect_preds)"
   ]
  },
  {
   "cell_type": "code",
   "execution_count": 188,
   "metadata": {
    "collapsed": false
   },
   "outputs": [
    {
     "name": "stdout",
     "output_type": "stream",
     "text": [
      "Actual labels: [9, 8, 8, 9, 3, 3, 1, 2]\n"
     ]
    }
   ],
   "source": [
    "print(\"Actual labels:\", incorrect_outputs)"
   ]
  },
  {
   "cell_type": "code",
   "execution_count": null,
   "metadata": {
    "collapsed": true
   },
   "outputs": [],
   "source": []
  },
  {
   "cell_type": "code",
   "execution_count": null,
   "metadata": {
    "collapsed": true
   },
   "outputs": [],
   "source": []
  }
 ],
 "metadata": {
  "anaconda-cloud": {},
  "kernelspec": {
   "display_name": "Python [py27]",
   "language": "python",
   "name": "Python [py27]"
  },
  "language_info": {
   "codemirror_mode": {
    "name": "ipython",
    "version": 2
   },
   "file_extension": ".py",
   "mimetype": "text/x-python",
   "name": "python",
   "nbconvert_exporter": "python",
   "pygments_lexer": "ipython2",
   "version": "2.7.12"
  }
 },
 "nbformat": 4,
 "nbformat_minor": 0
}
