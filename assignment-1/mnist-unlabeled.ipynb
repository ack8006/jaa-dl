{
 "cells": [
  {
   "cell_type": "code",
   "execution_count": 1,
   "metadata": {
    "collapsed": true
   },
   "outputs": [],
   "source": [
    "from __future__ import print_function\n",
    "import pickle \n",
    "import numpy as np\n",
    "import argparse\n",
    "import torch\n",
    "import torch.nn as nn\n",
    "import torch.nn.functional as F\n",
    "import torch.optim as optim\n",
    "from torchvision import datasets, transforms\n",
    "from torch.autograd import Variable"
   ]
  },
  {
   "cell_type": "code",
   "execution_count": 2,
   "metadata": {
    "collapsed": true
   },
   "outputs": [],
   "source": [
    "use_cuda = False\n",
    "momentum_par = 0.5\n",
    "lr = 0.01\n",
    "log_interval = 10\n",
    "epochs = 20"
   ]
  },
  {
   "cell_type": "code",
   "execution_count": 3,
   "metadata": {
    "collapsed": true
   },
   "outputs": [],
   "source": [
    "loader_kwargs = {'num_workers': 1, 'pin_memory': True} if use_cuda else {}"
   ]
  },
  {
   "cell_type": "code",
   "execution_count": 4,
   "metadata": {
    "collapsed": false
   },
   "outputs": [
    {
     "data": {
      "text/plain": [
       "<torch._C.Generator at 0x1041b1ed0>"
      ]
     },
     "execution_count": 4,
     "metadata": {},
     "output_type": "execute_result"
    }
   ],
   "source": [
    "torch.manual_seed(42)"
   ]
  },
  {
   "cell_type": "code",
   "execution_count": 5,
   "metadata": {
    "collapsed": false
   },
   "outputs": [
    {
     "name": "stdout",
     "output_type": "stream",
     "text": [
      "Files already downloaded\n",
      "3000\n",
      "750\n"
     ]
    }
   ],
   "source": [
    "trainset_labeled = pickle.load(open(\"data/train_labeled.p\", \"rb\"))"
   ]
  },
  {
   "cell_type": "code",
   "execution_count": 6,
   "metadata": {
    "collapsed": true
   },
   "outputs": [],
   "source": [
    "validset = pickle.load(open(\"data/validation.p\", \"rb\"))"
   ]
  },
  {
   "cell_type": "code",
   "execution_count": 7,
   "metadata": {
    "collapsed": false
   },
   "outputs": [],
   "source": [
    "train_loader = torch.utils.data.DataLoader(trainset_labeled, batch_size=64, shuffle=True, **loader_kwargs)\n",
    "valid_loader = torch.utils.data.DataLoader(validset, batch_size=64, shuffle=True)"
   ]
  },
  {
   "cell_type": "code",
   "execution_count": 8,
   "metadata": {
    "collapsed": true
   },
   "outputs": [],
   "source": [
    "class Net(nn.Module):\n",
    "    def __init__(self):\n",
    "        super(Net, self).__init__()\n",
    "        self.conv1 = nn.Conv2d(1, 10, kernel_size=5)\n",
    "        self.conv2 = nn.Conv2d(10, 20, kernel_size=5)\n",
    "        self.conv2_drop = nn.Dropout2d()\n",
    "        self.fc1 = nn.Linear(320, 50)\n",
    "        self.fc2 = nn.Linear(50, 10)\n",
    "\n",
    "    def forward(self, x):\n",
    "        x = F.relu(F.max_pool2d(self.conv1(x), 2))\n",
    "        x = F.relu(F.max_pool2d(self.conv2_drop(self.conv2(x)), 2))\n",
    "        x = x.view(-1, 320)\n",
    "        x = F.relu(self.fc1(x))\n",
    "        x = F.dropout(x, training=self.training)\n",
    "        x = F.relu(self.fc2(x))\n",
    "        return F.log_softmax(x)"
   ]
  },
  {
   "cell_type": "code",
   "execution_count": 9,
   "metadata": {
    "collapsed": true
   },
   "outputs": [],
   "source": [
    "model = Net()\n",
    "\n",
    "if use_cuda:\n",
    "    model.cuda()"
   ]
  },
  {
   "cell_type": "code",
   "execution_count": 10,
   "metadata": {
    "collapsed": false
   },
   "outputs": [],
   "source": [
    "optimizer = optim.SGD(model.parameters(), lr=lr, momentum=momentum_par)"
   ]
  },
  {
   "cell_type": "code",
   "execution_count": 11,
   "metadata": {
    "collapsed": true
   },
   "outputs": [],
   "source": [
    "def train(epoch):\n",
    "    model.train()\n",
    "    for batch_idx, (data, target) in enumerate(train_loader):\n",
    "        if use_cuda:\n",
    "            data, target = data.cuda(), target.cuda()\n",
    "        data, target = Variable(data), Variable(target)\n",
    "        optimizer.zero_grad()\n",
    "        output = model(data)\n",
    "        loss = F.nll_loss(output, target)\n",
    "        loss.backward()\n",
    "        optimizer.step()\n",
    "        if batch_idx % log_interval == 0:\n",
    "            print('Train Epoch: {} [{}/{} ({:.0f}%)]\\tLoss: {:.6f}'.format(\n",
    "                epoch, batch_idx * len(data), len(train_loader.dataset),\n",
    "                100. * batch_idx / len(train_loader), loss.data[0]))"
   ]
  },
  {
   "cell_type": "code",
   "execution_count": 12,
   "metadata": {
    "collapsed": true
   },
   "outputs": [],
   "source": [
    "def test(epoch, valid_loader):\n",
    "    model.eval()\n",
    "    test_loss = 0\n",
    "    correct = 0\n",
    "    for data, target in valid_loader:\n",
    "        if use_cuda:\n",
    "            data, target = data.cuda(), target.cuda()\n",
    "        data, target = Variable(data, volatile=True), Variable(target)\n",
    "        output = model(data)\n",
    "        test_loss += F.nll_loss(output, target).data[0]\n",
    "        pred = output.data.max(1)[1] # get the index of the max log-probability\n",
    "        correct += pred.eq(target.data).cpu().sum()\n",
    "\n",
    "    test_loss /= len(valid_loader) # loss function already averages over batch size\n",
    "    print('\\nTest set: Average loss: {:.4f}, Accuracy: {}/{} ({:.0f}%)\\n'.format(\n",
    "        test_loss, correct, len(valid_loader.dataset),\n",
    "        100. * correct / len(valid_loader.dataset)))"
   ]
  },
  {
   "cell_type": "code",
   "execution_count": 15,
   "metadata": {
    "collapsed": false
   },
   "outputs": [
    {
     "name": "stdout",
     "output_type": "stream",
     "text": [
      "Train Epoch: 1 [0/3000 (0%)]\tLoss: 2.299089\n",
      "Train Epoch: 1 [640/3000 (21%)]\tLoss: 2.287868\n",
      "Train Epoch: 1 [1280/3000 (43%)]\tLoss: 2.297804\n",
      "Train Epoch: 1 [1920/3000 (64%)]\tLoss: 2.294657\n",
      "Train Epoch: 1 [2560/3000 (85%)]\tLoss: 2.312828\n",
      "\n",
      "Test set: Average loss: 2.2745, Accuracy: 2731/10000 (27%)\n",
      "\n",
      "Train Epoch: 2 [0/3000 (0%)]\tLoss: 2.295248\n",
      "Train Epoch: 2 [640/3000 (21%)]\tLoss: 2.292928\n",
      "Train Epoch: 2 [1280/3000 (43%)]\tLoss: 2.273643\n",
      "Train Epoch: 2 [1920/3000 (64%)]\tLoss: 2.223941\n",
      "Train Epoch: 2 [2560/3000 (85%)]\tLoss: 2.260562\n",
      "\n",
      "Test set: Average loss: 2.2152, Accuracy: 3900/10000 (39%)\n",
      "\n",
      "Train Epoch: 3 [0/3000 (0%)]\tLoss: 2.230175\n",
      "Train Epoch: 3 [640/3000 (21%)]\tLoss: 2.228118\n",
      "Train Epoch: 3 [1280/3000 (43%)]\tLoss: 2.249061\n",
      "Train Epoch: 3 [1920/3000 (64%)]\tLoss: 2.250877\n",
      "Train Epoch: 3 [2560/3000 (85%)]\tLoss: 2.228348\n",
      "\n",
      "Test set: Average loss: 2.0300, Accuracy: 4676/10000 (47%)\n",
      "\n",
      "Train Epoch: 4 [0/3000 (0%)]\tLoss: 2.055495\n",
      "Train Epoch: 4 [640/3000 (21%)]\tLoss: 2.049053\n",
      "Train Epoch: 4 [1280/3000 (43%)]\tLoss: 2.107830\n",
      "Train Epoch: 4 [1920/3000 (64%)]\tLoss: 1.912523\n",
      "Train Epoch: 4 [2560/3000 (85%)]\tLoss: 1.749580\n",
      "\n",
      "Test set: Average loss: 1.5252, Accuracy: 6254/10000 (63%)\n",
      "\n",
      "Train Epoch: 5 [0/3000 (0%)]\tLoss: 1.891008\n",
      "Train Epoch: 5 [640/3000 (21%)]\tLoss: 1.608718\n",
      "Train Epoch: 5 [1280/3000 (43%)]\tLoss: 1.442615\n",
      "Train Epoch: 5 [1920/3000 (64%)]\tLoss: 1.685202\n",
      "Train Epoch: 5 [2560/3000 (85%)]\tLoss: 1.280703\n",
      "\n",
      "Test set: Average loss: 1.1116, Accuracy: 6860/10000 (69%)\n",
      "\n",
      "Train Epoch: 6 [0/3000 (0%)]\tLoss: 1.532231\n",
      "Train Epoch: 6 [640/3000 (21%)]\tLoss: 1.350541\n",
      "Train Epoch: 6 [1280/3000 (43%)]\tLoss: 1.198667\n",
      "Train Epoch: 6 [1920/3000 (64%)]\tLoss: 1.180934\n",
      "Train Epoch: 6 [2560/3000 (85%)]\tLoss: 1.015192\n",
      "\n",
      "Test set: Average loss: 0.7582, Accuracy: 8227/10000 (82%)\n",
      "\n",
      "Train Epoch: 7 [0/3000 (0%)]\tLoss: 1.067891\n",
      "Train Epoch: 7 [640/3000 (21%)]\tLoss: 1.021399\n",
      "Train Epoch: 7 [1280/3000 (43%)]\tLoss: 1.077716\n",
      "Train Epoch: 7 [1920/3000 (64%)]\tLoss: 0.953008\n",
      "Train Epoch: 7 [2560/3000 (85%)]\tLoss: 0.862806\n",
      "\n",
      "Test set: Average loss: 0.5707, Accuracy: 8548/10000 (85%)\n",
      "\n",
      "Train Epoch: 8 [0/3000 (0%)]\tLoss: 0.811297\n",
      "Train Epoch: 8 [640/3000 (21%)]\tLoss: 0.836717\n",
      "Train Epoch: 8 [1280/3000 (43%)]\tLoss: 0.991145\n",
      "Train Epoch: 8 [1920/3000 (64%)]\tLoss: 0.826507\n",
      "Train Epoch: 8 [2560/3000 (85%)]\tLoss: 0.742558\n",
      "\n",
      "Test set: Average loss: 0.4746, Accuracy: 8743/10000 (87%)\n",
      "\n",
      "Train Epoch: 9 [0/3000 (0%)]\tLoss: 0.931103\n",
      "Train Epoch: 9 [640/3000 (21%)]\tLoss: 0.953969\n",
      "Train Epoch: 9 [1280/3000 (43%)]\tLoss: 0.624165\n",
      "Train Epoch: 9 [1920/3000 (64%)]\tLoss: 0.841652\n",
      "Train Epoch: 9 [2560/3000 (85%)]\tLoss: 0.693740\n",
      "\n",
      "Test set: Average loss: 0.4359, Accuracy: 8882/10000 (89%)\n",
      "\n",
      "Train Epoch: 10 [0/3000 (0%)]\tLoss: 0.916033\n",
      "Train Epoch: 10 [640/3000 (21%)]\tLoss: 0.781790\n",
      "Train Epoch: 10 [1280/3000 (43%)]\tLoss: 0.578069\n",
      "Train Epoch: 10 [1920/3000 (64%)]\tLoss: 0.939331\n",
      "Train Epoch: 10 [2560/3000 (85%)]\tLoss: 0.684393\n",
      "\n",
      "Test set: Average loss: 0.3795, Accuracy: 8985/10000 (90%)\n",
      "\n"
     ]
    }
   ],
   "source": [
    "for epoch in range(1, epochs + 1):\n",
    "    train(epoch)\n",
    "    test(epoch, valid_loader)"
   ]
  },
  {
   "cell_type": "code",
   "execution_count": null,
   "metadata": {
    "collapsed": true
   },
   "outputs": [],
   "source": []
  }
 ],
 "metadata": {
  "anaconda-cloud": {},
  "kernelspec": {
   "display_name": "Python [py27]",
   "language": "python",
   "name": "Python [py27]"
  },
  "language_info": {
   "codemirror_mode": {
    "name": "ipython",
    "version": 2
   },
   "file_extension": ".py",
   "mimetype": "text/x-python",
   "name": "python",
   "nbconvert_exporter": "python",
   "pygments_lexer": "ipython2",
   "version": "2.7.12"
  }
 },
 "nbformat": 4,
 "nbformat_minor": 0
}
