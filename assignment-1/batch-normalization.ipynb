{
 "cells": [
  {
   "cell_type": "code",
   "execution_count": 1,
   "metadata": {
    "collapsed": true
   },
   "outputs": [],
   "source": [
    "import torch\n",
    "import numpy as np\n",
    "from torch.autograd import Variable"
   ]
  },
  {
   "cell_type": "code",
   "execution_count": 2,
   "metadata": {
    "collapsed": false
   },
   "outputs": [],
   "source": [
    "n = 10\n",
    "d = 5\n",
    "\n",
    "module = torch.nn.BatchNorm1d(d, affine=False)\n",
    "\n",
    "running_mean = Variable(torch.zeros(1, d))\n",
    "running_var = Variable(torch.ones(1, d))"
   ]
  },
  {
   "cell_type": "code",
   "execution_count": 3,
   "metadata": {
    "collapsed": false
   },
   "outputs": [],
   "source": [
    "def batch_norm(x, training, batch_count=None, momentum=0.1):\n",
    "    ones = Variable(torch.ones(x.size()[0], 1))\n",
    "    global running_mean\n",
    "    global running_var\n",
    "    if training:\n",
    "        ones = Variable(torch.ones(x.size()[0], 1))\n",
    "        mean = torch.mean(x, 0)\n",
    "        var = np.var(x.data.numpy(), axis=0).reshape(1, x.size()[1])\n",
    "        var = Variable(torch.FloatTensor(var))\n",
    "        running_mean = ((1.0 - momentum) * running_mean) + momentum * mean\n",
    "        running_var = ((1.0 - momentum) * running_var) + momentum * var\n",
    "    else:\n",
    "        mean = running_mean\n",
    "        var = running_var\n",
    "    x_normalized = torch.div(x - ones.mm(mean), ones.mm(torch.sqrt(var + 1e-5)))\n",
    "    return x_normalized"
   ]
  },
  {
   "cell_type": "code",
   "execution_count": 4,
   "metadata": {
    "collapsed": false
   },
   "outputs": [
    {
     "data": {
      "text/plain": [
       "Variable containing:\n",
       "    1     7     3     9     7\n",
       "    8     3     8     5     6\n",
       "    3     7     2     8     1\n",
       "    7     8     6     8     9\n",
       "    6     5     2     3     7\n",
       "    6     3     2     2     2\n",
       "    3     9     4     9     5\n",
       "    8     2     2     3     2\n",
       "    2     4     1     3     8\n",
       "    6     5     6     3     7\n",
       "[torch.FloatTensor of size 10x5]"
      ]
     },
     "execution_count": 4,
     "metadata": {},
     "output_type": "execute_result"
    }
   ],
   "source": [
    "t = np.random.randint(1, 10, size=(n, d))\n",
    "A = Variable(torch.FloatTensor(t))\n",
    "A"
   ]
  },
  {
   "cell_type": "code",
   "execution_count": 5,
   "metadata": {
    "collapsed": false
   },
   "outputs": [
    {
     "data": {
      "text/plain": [
       "Variable containing:\n",
       "-1.6609  0.7595 -0.2727  1.3592  0.6030\n",
       " 1.2457 -1.0276  2.0000 -0.1102  0.2261\n",
       "-0.8305  0.7595 -0.7273  0.9919 -1.6583\n",
       " 0.8305  1.2063  1.0909  0.9919  1.3568\n",
       " 0.4152 -0.1340 -0.7273 -0.8449  0.6030\n",
       " 0.4152 -1.0276 -0.7273 -1.2123 -1.2814\n",
       "-0.8305  1.6530  0.1818  1.3592 -0.1508\n",
       " 1.2457 -1.4743 -0.7273 -0.8449 -1.2814\n",
       "-1.2457 -0.5808 -1.1818 -0.8449  0.9799\n",
       " 0.4152 -0.1340  1.0909 -0.8449  0.6030\n",
       "[torch.FloatTensor of size 10x5]"
      ]
     },
     "execution_count": 5,
     "metadata": {},
     "output_type": "execute_result"
    }
   ],
   "source": [
    "v1 = batch_norm(A, True)\n",
    "v1"
   ]
  },
  {
   "cell_type": "code",
   "execution_count": 6,
   "metadata": {
    "collapsed": false
   },
   "outputs": [
    {
     "data": {
      "text/plain": [
       "Variable containing:\n",
       "-1.6609  0.7595 -0.2727  1.3592  0.6030\n",
       " 1.2457 -1.0276  2.0000 -0.1102  0.2261\n",
       "-0.8305  0.7595 -0.7273  0.9919 -1.6583\n",
       " 0.8305  1.2063  1.0909  0.9919  1.3568\n",
       " 0.4152 -0.1340 -0.7273 -0.8449  0.6030\n",
       " 0.4152 -1.0276 -0.7273 -1.2123 -1.2814\n",
       "-0.8305  1.6530  0.1818  1.3592 -0.1508\n",
       " 1.2457 -1.4743 -0.7273 -0.8449 -1.2814\n",
       "-1.2457 -0.5808 -1.1818 -0.8449  0.9799\n",
       " 0.4152 -0.1340  1.0909 -0.8449  0.6030\n",
       "[torch.FloatTensor of size 10x5]"
      ]
     },
     "execution_count": 6,
     "metadata": {},
     "output_type": "execute_result"
    }
   ],
   "source": [
    "v2 = module(A)\n",
    "v2"
   ]
  },
  {
   "cell_type": "code",
   "execution_count": 7,
   "metadata": {
    "collapsed": false
   },
   "outputs": [
    {
     "data": {
      "text/plain": [
       "array([[ True,  True,  True,  True,  True],\n",
       "       [ True,  True,  True,  True,  True],\n",
       "       [ True,  True,  True,  True,  True],\n",
       "       [ True,  True,  True,  True,  True],\n",
       "       [ True,  True,  True,  True,  True],\n",
       "       [ True,  True,  True,  True,  True],\n",
       "       [ True,  True,  True,  True,  True],\n",
       "       [ True,  True,  True,  True,  True],\n",
       "       [ True,  True,  True,  True,  True],\n",
       "       [ True,  True,  True,  True,  True]], dtype=bool)"
      ]
     },
     "execution_count": 7,
     "metadata": {},
     "output_type": "execute_result"
    }
   ],
   "source": [
    "np.isclose(v1.data.numpy(), v2.data.numpy())"
   ]
  },
  {
   "cell_type": "code",
   "execution_count": 8,
   "metadata": {
    "collapsed": false
   },
   "outputs": [
    {
     "name": "stdout",
     "output_type": "stream",
     "text": [
      "Variable containing:\n",
      " 0.4023  5.3607  2.2017  6.4520  4.9807\n",
      " 6.0350  2.0465  6.3716  3.4050  4.2097\n",
      " 2.0117  5.3607  1.3677  5.6903  0.3547\n",
      " 5.2303  6.1893  4.7036  5.6903  6.5227\n",
      " 4.4256  3.7036  1.3677  1.8815  4.9807\n",
      " 4.4256  2.0465  1.3677  1.1198  1.1257\n",
      " 2.0117  7.0178  3.0357  6.4520  3.4387\n",
      " 6.0350  1.2180  1.3677  1.8815  1.1257\n",
      " 1.2070  2.8751  0.5337  1.8815  5.7517\n",
      " 4.4256  3.7036  4.7036  1.8815  4.9807\n",
      "[torch.FloatTensor of size 10x5]\n",
      "\n"
     ]
    },
    {
     "data": {
      "text/plain": [
       "BatchNorm1d(5, eps=1e-05, momentum=0.1, affine=False)"
      ]
     },
     "execution_count": 8,
     "metadata": {},
     "output_type": "execute_result"
    }
   ],
   "source": [
    "module.eval()\n",
    "v3 = module(A)\n",
    "print(v3)\n",
    "module.train()"
   ]
  },
  {
   "cell_type": "code",
   "execution_count": 9,
   "metadata": {
    "collapsed": false
   },
   "outputs": [
    {
     "name": "stdout",
     "output_type": "stream",
     "text": [
      "Variable containing:\n",
      " 0.4110  5.4662  2.2441  6.6119  5.1007\n",
      " 6.1649  2.0868  6.4942  3.4894  4.3111\n",
      " 2.0550  5.4662  1.3940  5.8313  0.3632\n",
      " 5.3429  6.3110  4.7941  5.8313  6.6799\n",
      " 4.5210  3.7765  1.3940  1.9282  5.1007\n",
      " 4.5210  2.0868  1.3940  1.1475  1.1528\n",
      " 2.0550  7.1559  3.0941  6.6119  3.5215\n",
      " 6.1649  1.2419  1.3940  1.9282  1.1528\n",
      " 1.2330  2.9316  0.5440  1.9282  5.8903\n",
      " 4.5210  3.7765  4.7941  1.9282  5.1007\n",
      "[torch.FloatTensor of size 10x5]\n",
      "\n"
     ]
    }
   ],
   "source": [
    "v4 = batch_norm(A, False, batch_count=1)\n",
    "print(v4)"
   ]
  },
  {
   "cell_type": "code",
   "execution_count": 10,
   "metadata": {
    "collapsed": false
   },
   "outputs": [
    {
     "data": {
      "text/plain": [
       "array([[False, False, False, False, False],\n",
       "       [False, False, False, False, False],\n",
       "       [False, False, False, False, False],\n",
       "       [False, False, False, False, False],\n",
       "       [False, False, False, False, False],\n",
       "       [False, False, False, False, False],\n",
       "       [False, False, False, False, False],\n",
       "       [False, False, False, False, False],\n",
       "       [False, False, False, False, False],\n",
       "       [False, False, False, False, False]], dtype=bool)"
      ]
     },
     "execution_count": 10,
     "metadata": {},
     "output_type": "execute_result"
    }
   ],
   "source": [
    "np.isclose(v3.data.numpy(), v4.data.numpy())"
   ]
  },
  {
   "cell_type": "code",
   "execution_count": null,
   "metadata": {
    "collapsed": true
   },
   "outputs": [],
   "source": []
  }
 ],
 "metadata": {
  "anaconda-cloud": {},
  "kernelspec": {
   "display_name": "Python [py27]",
   "language": "python",
   "name": "Python [py27]"
  },
  "language_info": {
   "codemirror_mode": {
    "name": "ipython",
    "version": 2
   },
   "file_extension": ".py",
   "mimetype": "text/x-python",
   "name": "python",
   "nbconvert_exporter": "python",
   "pygments_lexer": "ipython2",
   "version": "2.7.12"
  }
 },
 "nbformat": 4,
 "nbformat_minor": 0
}
