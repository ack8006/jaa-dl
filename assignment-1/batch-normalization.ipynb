{
 "cells": [
  {
   "cell_type": "code",
   "execution_count": 1,
   "metadata": {
    "collapsed": true
   },
   "outputs": [],
   "source": [
    "import torch\n",
    "import numpy as np\n",
    "from torch.autograd import Variable"
   ]
  },
  {
   "cell_type": "code",
   "execution_count": 2,
   "metadata": {
    "collapsed": false
   },
   "outputs": [],
   "source": [
    "n = 100\n",
    "d = 30\n",
    "\n",
    "module = torch.nn.BatchNorm1d(d, affine=False)\n",
    "\n",
    "running_mean = Variable(torch.zeros(1, d))\n",
    "running_var = Variable(torch.ones(1, d))"
   ]
  },
  {
   "cell_type": "code",
   "execution_count": 3,
   "metadata": {
    "collapsed": false
   },
   "outputs": [],
   "source": [
    "def batch_norm(x, training, momentum=0.1):\n",
    "    ones = Variable(torch.ones(x.size()[0], 1))\n",
    "    global running_mean\n",
    "    global running_var\n",
    "    if training:\n",
    "        ones = Variable(torch.ones(x.size()[0], 1))\n",
    "        mean = torch.mean(x, 0)\n",
    "        var = np.var(x.data.numpy(), axis=0).reshape(1, x.size()[1])\n",
    "        var = Variable(torch.FloatTensor(var))\n",
    "        unbiased_var = var * (float(x.size()[0]) / (float(x.size()[0]) - 1.))\n",
    "        running_mean = ((1.0 - momentum) * running_mean) + momentum * mean\n",
    "        running_var = ((1.0 - momentum) * running_var) + momentum * unbiased_var\n",
    "    else:\n",
    "        mean = running_mean\n",
    "        var = running_var\n",
    "    x_normalized = torch.div(x - ones.mm(mean), ones.mm(torch.sqrt(var + 1e-5)))\n",
    "    return x_normalized"
   ]
  },
  {
   "cell_type": "code",
   "execution_count": 7,
   "metadata": {
    "collapsed": false
   },
   "outputs": [
    {
     "name": "stdout",
     "output_type": "stream",
     "text": [
      "True\n",
      "True\n",
      "True\n",
      "True\n",
      "True\n",
      "True\n",
      "True\n",
      "True\n",
      "True\n",
      "True\n",
      "True\n",
      "True\n",
      "True\n",
      "True\n",
      "True\n",
      "True\n",
      "True\n",
      "True\n",
      "True\n",
      "True\n"
     ]
    }
   ],
   "source": [
    "for x in range(20):\n",
    "    t = np.random.randint(1, 10, size=(n, d))\n",
    "#     t = [[4, 7], [3, 4], [6, 9]]\n",
    "    A = Variable(torch.FloatTensor(t))\n",
    "    v1 = batch_norm(A, True)\n",
    "    v2 = module(A)\n",
    "    \n",
    "    module.eval()\n",
    "    v3 = module(A)\n",
    "    module.train()\n",
    "    v4 = batch_norm(A, False)\n",
    "    print(np.all(np.isclose(v3.data.numpy(), v4.data.numpy(), atol=1e-4)))"
   ]
  },
  {
   "cell_type": "code",
   "execution_count": null,
   "metadata": {
    "collapsed": true
   },
   "outputs": [],
   "source": []
  }
 ],
 "metadata": {
  "anaconda-cloud": {},
  "kernelspec": {
   "display_name": "Python [py27]",
   "language": "python",
   "name": "Python [py27]"
  },
  "language_info": {
   "codemirror_mode": {
    "name": "ipython",
    "version": 2
   },
   "file_extension": ".py",
   "mimetype": "text/x-python",
   "name": "python",
   "nbconvert_exporter": "python",
   "pygments_lexer": "ipython2",
   "version": "2.7.12"
  }
 },
 "nbformat": 4,
 "nbformat_minor": 0
}
