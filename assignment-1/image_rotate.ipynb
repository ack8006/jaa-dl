{
 "cells": [
  {
   "cell_type": "code",
   "execution_count": 38,
   "metadata": {
    "collapsed": false
   },
   "outputs": [
    {
     "ename": "ImportError",
     "evalue": "No module named Image",
     "output_type": "error",
     "traceback": [
      "\u001b[0;31m---------------------------------------------------------------------------\u001b[0m",
      "\u001b[0;31mImportError\u001b[0m                               Traceback (most recent call last)",
      "\u001b[0;32m<ipython-input-38-0e90418214c8>\u001b[0m in \u001b[0;36m<module>\u001b[0;34m()\u001b[0m\n\u001b[1;32m      3\u001b[0m \u001b[1;32mimport\u001b[0m \u001b[0mgzip\u001b[0m\u001b[1;33m\u001b[0m\u001b[0m\n\u001b[1;32m      4\u001b[0m \u001b[1;32mimport\u001b[0m \u001b[0murllib\u001b[0m\u001b[1;33m\u001b[0m\u001b[0m\n\u001b[0;32m----> 5\u001b[0;31m \u001b[1;32mimport\u001b[0m \u001b[0mImage\u001b[0m\u001b[1;33m\u001b[0m\u001b[0m\n\u001b[0m\u001b[1;32m      6\u001b[0m \u001b[1;33m\u001b[0m\u001b[0m\n\u001b[1;32m      7\u001b[0m \u001b[1;32mimport\u001b[0m \u001b[0mnumpy\u001b[0m \u001b[1;32mas\u001b[0m \u001b[0mnp\u001b[0m\u001b[1;33m\u001b[0m\u001b[0m\n",
      "\u001b[0;31mImportError\u001b[0m: No module named Image"
     ]
    }
   ],
   "source": [
    "import pickle\n",
    "import os\n",
    "import gzip\n",
    "import urllib\n",
    "\n",
    "import numpy as np\n",
    "import matplotlib.pyplot as plt\n",
    "\n",
    "%matplotlib inline"
   ]
  },
  {
   "cell_type": "code",
   "execution_count": null,
   "metadata": {
    "collapsed": true
   },
   "outputs": [],
   "source": [
    "trainset_labeled = pickle.load(open(\"data/train_labeled.p\", \"rb\"))"
   ]
  },
  {
   "cell_type": "code",
   "execution_count": 10,
   "metadata": {
    "collapsed": true
   },
   "outputs": [],
   "source": [
    "def download_mnist(local_path):\n",
    "    url_root = \"http://yann.lecun.com/exdb/mnist/\"\n",
    "    for f_name in [\"train-images-idx3-ubyte.gz\", \"train-labels-idx1-ubyte.gz\",\n",
    "                   \"t10k-images-idx3-ubyte.gz\", \"t10k-labels-idx1-ubyte.gz\"]:\n",
    "        f_path = os.path.join(local_path, f_name)\n",
    "        if not os.path.exists(f_path):\n",
    "            download_file(url_root + f_name, f_path)\n",
    "\n",
    "def download_file(url, local_path):\n",
    "    dir_path = os.path.dirname(local_path)\n",
    "    if not os.path.exists(dir_path):\n",
    "        print(\"Creating the directory '%s' ...\" % dir_path)\n",
    "        os.makedirs(dir_path)\n",
    "\n",
    "    print(\"Downloading from '%s' ...\" % url)\n",
    "    urllib.URLopener().retrieve(url, local_path)"
   ]
  },
  {
   "cell_type": "code",
   "execution_count": 88,
   "metadata": {
    "collapsed": true
   },
   "outputs": [],
   "source": [
    "def rotate_coords(x, y, theta, ox, oy):\n",
    "    \"\"\"Rotate arrays of coordinates x and y by theta radians about the\n",
    "    point (ox, oy).\n",
    "\n",
    "    \"\"\"\n",
    "    s, c = np.sin(theta), np.cos(theta)\n",
    "    x, y = np.asarray(x) - ox, np.asarray(y) - oy\n",
    "    return x * c - y * s + ox, x * s + y * c + oy\n",
    "\n",
    "def rotate_image(src, theta, ox, oy, fill=255):\n",
    "    \"\"\"Rotate the image src by theta radians about (ox, oy).\n",
    "    Pixels in the result that don't correspond to pixels in src are\n",
    "    replaced by the value fill.\n",
    "\n",
    "    \"\"\"\n",
    "    # Images have origin at the top left, so negate the angle.\n",
    "    theta = -theta\n",
    "\n",
    "    # Dimensions of source image. Note that scipy.misc.imread loads\n",
    "    # images in row-major order, so src.shape gives (height, width).\n",
    "    sh, sw = src.shape\n",
    "\n",
    "    # Rotated positions of the corners of the source image.\n",
    "    cx, cy = rotate_coords([0, sw, sw, 0], [0, 0, sh, sh], theta, ox, oy)\n",
    "\n",
    "    # Determine dimensions of destination image.\n",
    "    dw, dh = (int(np.ceil(c.max() - c.min())) for c in (cx, cy))\n",
    "\n",
    "    # Coordinates of pixels in destination image.\n",
    "    dx, dy = np.meshgrid(np.arange(dw), np.arange(dh))\n",
    "\n",
    "    # Corresponding coordinates in source image. Since we are\n",
    "    # transforming dest-to-src here, the rotation is negated.\n",
    "    sx, sy = rotate_coords(dx + cx.min(), dy + cy.min(), -theta, ox, oy)\n",
    "\n",
    "    # Select nearest neighbour.\n",
    "    sx, sy = sx.round().astype(int), sy.round().astype(int)\n",
    "\n",
    "    # Mask for valid coordinates.\n",
    "    mask = (0 <= sx) & (sx < sw) & (0 <= sy) & (sy < sh)\n",
    "\n",
    "    # Create destination image.\n",
    "    dest = np.empty(shape=(dh, dw), dtype=src.dtype)\n",
    "\n",
    "    # Copy valid coordinates from source image.\n",
    "    dest[dy[mask], dx[mask]] = src[sy[mask], sx[mask]]\n",
    "\n",
    "    # Fill invalid coordinates.\n",
    "    dest[dy[~mask], dx[~mask]] = fill\n",
    "\n",
    "    return dest"
   ]
  },
  {
   "cell_type": "code",
   "execution_count": null,
   "metadata": {
    "collapsed": true
   },
   "outputs": [],
   "source": [
    "from scipy.ndimage.interpolation import map_coordinates\n",
    "from scipy.ndimage.filters import gaussian_filter\n",
    "\n",
    "def elastic_transform(image, alpha, sigma, random_state=None):\n",
    "    \"\"\"Elastic deformation of images as described in [Simard2003]_.\n",
    "    .. [Simard2003] Simard, Steinkraus and Platt, \"Best Practices for\n",
    "       Convolutional Neural Networks applied to Visual Document Analysis\", in\n",
    "       Proc. of the International Conference on Document Analysis and\n",
    "       Recognition, 2003.\n",
    "    \"\"\"\n",
    "    assert len(image.shape)==2\n",
    "\n",
    "    if random_state is None:\n",
    "        random_state = np.random.RandomState(None)\n",
    "\n",
    "    shape = image.shape\n",
    "\n",
    "    dx = gaussian_filter((random_state.rand(*shape) * 2 - 1), sigma, mode=\"constant\", cval=0) * alpha\n",
    "    dy = gaussian_filter((random_state.rand(*shape) * 2 - 1), sigma, mode=\"constant\", cval=0) * alpha\n",
    "\n",
    "    x, y = np.meshgrid(np.arange(shape[0]), np.arange(shape[1]), indexing='ij')\n",
    "    indices = np.reshape(x+dx, (-1, 1)), np.reshape(y+dy, (-1, 1))\n",
    "    \n",
    "    return map_coordinates(image, indices, order=1).reshape(shape)"
   ]
  },
  {
   "cell_type": "code",
   "execution_count": 35,
   "metadata": {
    "collapsed": true
   },
   "outputs": [],
   "source": [
    "def imshow(img):\n",
    "    npimg = img.reshape(28,28)\n",
    "    plt.imshow(npimg, cmap='gray')"
   ]
  },
  {
   "cell_type": "code",
   "execution_count": 14,
   "metadata": {
    "collapsed": false,
    "scrolled": true
   },
   "outputs": [
    {
     "name": "stdout",
     "output_type": "stream",
     "text": [
      "Downloading from 'http://yann.lecun.com/exdb/mnist/train-images-idx3-ubyte.gz' ...\n",
      "Downloading from 'http://yann.lecun.com/exdb/mnist/train-labels-idx1-ubyte.gz' ...\n",
      "Downloading from 'http://yann.lecun.com/exdb/mnist/t10k-images-idx3-ubyte.gz' ...\n",
      "Downloading from 'http://yann.lecun.com/exdb/mnist/t10k-labels-idx1-ubyte.gz' ...\n"
     ]
    }
   ],
   "source": [
    "download_mnist('data/')"
   ]
  },
  {
   "cell_type": "code",
   "execution_count": 18,
   "metadata": {
    "collapsed": false
   },
   "outputs": [],
   "source": [
    "with gzip.open(os.path.join('data/', 'train-images-idx3-ubyte.gz')) as fd:\n",
    "        buf = fd.read()\n",
    "        loaded = np.frombuffer(buf, dtype=np.uint8)\n",
    "        trX = loaded[16:].reshape((60000, 28 * 28)).astype(float)"
   ]
  },
  {
   "cell_type": "code",
   "execution_count": 131,
   "metadata": {
    "collapsed": true
   },
   "outputs": [],
   "source": [
    "def grey_inverse(img):\n",
    "    new_img = []\n",
    "    for x in img:\n",
    "        new_img.append(255.0-x)\n",
    "    return np.array(new_img)\n",
    "\n",
    "def sharpen(img):\n",
    "    new_img = []\n",
    "    for x in img:\n",
    "        if x > 185: \n",
    "            x = 255\n",
    "        elif x < 75:\n",
    "            x = 0\n",
    "        \n",
    "        new_img.append(x)\n",
    "    return np.array(new_img)\n",
    "        "
   ]
  },
  {
   "cell_type": "code",
   "execution_count": 134,
   "metadata": {
    "collapsed": false
   },
   "outputs": [
    {
     "data": {
      "image/png": "[encoded data removed]",
      "text/plain": [
       "<matplotlib.figure.Figure at 0xb7306d8>"
      ]
     },
     "metadata": {},
     "output_type": "display_data"
    }
   ],
   "source": [
    "imshow(grey_inverse(trX[10]))"
   ]
  },
  {
   "cell_type": "code",
   "execution_count": 135,
   "metadata": {
    "collapsed": false
   },
   "outputs": [
    {
     "data": {
      "image/png": "[encoded data removed]",
      "text/plain": [
       "<matplotlib.figure.Figure at 0xbcfc940>"
      ]
     },
     "metadata": {},
     "output_type": "display_data"
    }
   ],
   "source": [
    "imshow(sharpen(grey_inverse(trX[10])))"
   ]
  },
  {
   "cell_type": "code",
   "execution_count": null,
   "metadata": {
    "collapsed": true
   },
   "outputs": [],
   "source": []
  },
  {
   "cell_type": "code",
   "execution_count": null,
   "metadata": {
    "collapsed": true
   },
   "outputs": [],
   "source": []
  },
  {
   "cell_type": "code",
   "execution_count": 93,
   "metadata": {
    "collapsed": false
   },
   "outputs": [],
   "source": [
    "zzz = rotate_image(grey_inverse(trX[10]).reshape(28,28), .5, 100,100)"
   ]
  },
  {
   "cell_type": "code",
   "execution_count": 94,
   "metadata": {
    "collapsed": false
   },
   "outputs": [
    {
     "data": {
      "text/plain": [
       "(38L, 38L)"
      ]
     },
     "execution_count": 94,
     "metadata": {},
     "output_type": "execute_result"
    }
   ],
   "source": [
    "zzz.shape"
   ]
  },
  {
   "cell_type": "code",
   "execution_count": 95,
   "metadata": {
    "collapsed": false
   },
   "outputs": [
    {
     "data": {
      "text/plain": [
       "<matplotlib.image.AxesImage at 0xa8dfac8>"
      ]
     },
     "execution_count": 95,
     "metadata": {},
     "output_type": "execute_result"
    },
    {
     "data": {
      "image/png": "[encoded data removed]",
      "text/plain": [
       "<matplotlib.figure.Figure at 0xa643470>"
      ]
     },
     "metadata": {},
     "output_type": "display_data"
    }
   ],
   "source": [
    "plt.imshow(zzz[5:33,5:33], cmap='gray')"
   ]
  },
  {
   "cell_type": "code",
   "execution_count": null,
   "metadata": {
    "collapsed": true
   },
   "outputs": [],
   "source": []
  },
  {
   "cell_type": "code",
   "execution_count": null,
   "metadata": {
    "collapsed": true
   },
   "outputs": [],
   "source": [
    "plt.imshow(zzz[5:33, 5:33], cmap='gray')"
   ]
  },
  {
   "cell_type": "code",
   "execution_count": null,
   "metadata": {
    "collapsed": true
   },
   "outputs": [],
   "source": []
  },
  {
   "cell_type": "code",
   "execution_count": 31,
   "metadata": {
    "collapsed": false
   },
   "outputs": [
    {
     "data": {
      "text/plain": [
       "(28L, 28L)"
      ]
     },
     "execution_count": 31,
     "metadata": {},
     "output_type": "execute_result"
    }
   ],
   "source": [
    "trX[0].reshape(28,28).shape"
   ]
  }
 ],
 "metadata": {
  "kernelspec": {
   "display_name": "Python 2",
   "language": "python",
   "name": "python2"
  },
  "language_info": {
   "codemirror_mode": {
    "name": "ipython",
    "version": 2
   },
   "file_extension": ".py",
   "mimetype": "text/x-python",
   "name": "python",
   "nbconvert_exporter": "python",
   "pygments_lexer": "ipython2",
   "version": "2.7.11"
  }
 },
 "nbformat": 4,
 "nbformat_minor": 1
}
