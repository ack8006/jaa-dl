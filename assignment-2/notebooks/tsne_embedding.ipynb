{
 "cells": [
  {
   "cell_type": "code",
   "execution_count": 1,
   "metadata": {
    "collapsed": false
   },
   "outputs": [],
   "source": [
    "import numpy as Math\n",
    "import pylab as Plot\n",
    "import sys\n",
    "import pickle as pkl"
   ]
  },
  {
   "cell_type": "code",
   "execution_count": 2,
   "metadata": {
    "collapsed": false
   },
   "outputs": [],
   "source": [
    "sys.path.append('../')\n",
    "from tsne import tsne"
   ]
  },
  {
   "cell_type": "code",
   "execution_count": null,
   "metadata": {
    "collapsed": false
   },
   "outputs": [],
   "source": [
    "matrix = pkl.load(open('../data/best_model_word_embeddings.pkl','rb'));\n",
    "labels = pkl.load(open('../data/word_mapping.pkl','rb'))"
   ]
  },
  {
   "cell_type": "code",
   "execution_count": null,
   "metadata": {
    "collapsed": false
   },
   "outputs": [
    {
     "name": "stdout",
     "output_type": "stream",
     "text": [
      "Preprocessing the data using PCA...\n",
      "Computing pairwise distances...\n",
      "Computing P-values for point  0  of  10000 ...\n",
      "Computing P-values for point  500  of  10000 ...\n",
      "Computing P-values for point  1000  of  10000 ...\n",
      "Computing P-values for point  1500  of  10000 ...\n"
     ]
    }
   ],
   "source": [
    "reduced_matrix = tsne(matrix,2, max_iter=1000)"
   ]
  },
  {
   "cell_type": "code",
   "execution_count": null,
   "metadata": {
    "collapsed": false
   },
   "outputs": [],
   "source": [
    "Plot.figure(figsize=(200, 200), dpi=100)\n",
    "max_x = Math.amax(reduced_matrix, axis=0)[0]\n",
    "max_y = Math.amax(reduced_matrix, axis=0)[1]\n",
    "Plot.xlim((-max_x,max_x))\n",
    "Plot.ylim((-max_y,max_y))\n",
    "\n",
    "Plot.scatter(reduced_matrix[:, 0], reduced_matrix[:, 1], 20);\n",
    "\n",
    "for id in range(0, len(labels)):\n",
    "    target_label = labels[id]\n",
    "    x = reduced_matrix[id, 0]\n",
    "    y = reduced_matrix[id, 1]\n",
    "    Plot.annotate(target_label, (x,y))\n",
    "\n",
    "Plot.savefig(\"tsne.png\");"
   ]
  },
  {
   "cell_type": "code",
   "execution_count": null,
   "metadata": {
    "collapsed": true
   },
   "outputs": [],
   "source": []
  }
 ],
 "metadata": {
  "kernelspec": {
   "display_name": "Python 3",
   "language": "python",
   "name": "python3"
  },
  "language_info": {
   "codemirror_mode": {
    "name": "ipython",
    "version": 3
   },
   "file_extension": ".py",
   "mimetype": "text/x-python",
   "name": "python",
   "nbconvert_exporter": "python",
   "pygments_lexer": "ipython3",
   "version": "3.5.2"
  }
 },
 "nbformat": 4,
 "nbformat_minor": 0
}
