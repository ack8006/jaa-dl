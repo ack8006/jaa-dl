{
 "cells": [
  {
   "cell_type": "code",
   "execution_count": 24,
   "metadata": {
    "collapsed": false
   },
   "outputs": [],
   "source": [
    "from sklearn.manifold import TSNE\n",
    "import pickle as pkl"
   ]
  },
  {
   "cell_type": "code",
   "execution_count": null,
   "metadata": {
    "collapsed": true
   },
   "outputs": [],
   "source": [
    "word_embeddings = pkl.load(open('./data/best_model_word_embeddings.pkl','rb'))\n",
    "print('Word embedding : {}'.format(word_embeddings.shape))\n",
    "labels = pkl.load(open('./data/word_mapping.pkl','rb'))\n",
    "\n",
    "tsne = TSNE(n_components=2, random_state=42)\n",
    "print('Fit tsne')\n",
    "\n",
    "word_embeddings = tsne.fit_transform(word_embeddings)\n",
    "print('After TSNE Word embedding : {}'.format(word_embeddings.shape))"
   ]
  },
  {
   "cell_type": "code",
   "execution_count": null,
   "metadata": {
    "collapsed": true
   },
   "outputs": [],
   "source": [
    "pkl.dump(word_embeddings, open('./embedding.pkl','wb'))"
   ]
  },
  {
   "cell_type": "code",
   "execution_count": 23,
   "metadata": {
    "collapsed": false
   },
   "outputs": [],
   "source": [
    "import matplotlib.pyplot as plt \n",
    "\n",
    "labels_to_plot = 300\n",
    "\n",
    "\n",
    "fig, ax = plt.subplots()\n",
    "ax.scatter(word_embeddings.transpose()[0].transpose(), word_embeddings.transpose()[1].transpose(), s=0.1)\n",
    "\n",
    "words_plotted = 0\n",
    "\n",
    "# for i in range(len(labels)):\n",
    "#     if labels[i] in ['cat','dog']:\n",
    "#         ax.annotate(labels[i], (word_embeddings[i][0], word_embeddings[i][1]))\n",
    "\n",
    "for i in range(len(labels)):\n",
    "    words_plotted += 1\n",
    "    if words_plotted > labels_to_plot:\n",
    "        break\n",
    "    ax.annotate(labels[i], (word_embeddings[i][0], word_embeddings[i][1]), size=5)\n",
    "\n",
    "ax.set_xlim((-10,10))\n",
    "ax.set_ylim((-8,8))\n",
    "fig.savefig('tsne.png', dpi=2000)"
   ]
  }
 ],
 "metadata": {
  "kernelspec": {
   "display_name": "Python 3",
   "language": "python",
   "name": "python3"
  },
  "language_info": {
   "codemirror_mode": {
    "name": "ipython",
    "version": 3
   },
   "file_extension": ".py",
   "mimetype": "text/x-python",
   "name": "python",
   "nbconvert_exporter": "python",
   "pygments_lexer": "ipython3",
   "version": "3.5.2"
  }
 },
 "nbformat": 4,
 "nbformat_minor": 0
}
